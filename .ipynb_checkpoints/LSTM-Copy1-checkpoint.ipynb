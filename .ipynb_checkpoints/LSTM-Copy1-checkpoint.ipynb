{
 "cells": [
  {
   "cell_type": "markdown",
   "id": "4f228295",
   "metadata": {},
   "source": [
    "# 1. Preprocess Data and Create Labels and Features"
   ]
  },
  {
   "cell_type": "code",
   "execution_count": 2,
   "id": "d54d8f6f",
   "metadata": {},
   "outputs": [],
   "source": [
    "import cv2\n",
    "import numpy as np\n",
    "import os\n",
    "from matplotlib import pyplot as plt\n",
    "import time\n",
    "import mediapipe as mp\n",
    "from tensorflow.keras.models import Sequential\n",
    "from tensorflow.keras.layers import LSTM, Dense, Dropout\n",
    "from tensorflow.keras.callbacks import TensorBoard\n",
    "from tensorflow.keras.utils import plot_model\n",
    "\n",
    "from sklearn.model_selection import train_test_split\n",
    "from tensorflow.keras.utils import to_categorical\n",
    "\n",
    "import tensorflow as tf\n",
    "import pandas as pd"
   ]
  },
  {
   "cell_type": "code",
   "execution_count": 3,
   "id": "e45bb8bb",
   "metadata": {},
   "outputs": [
    {
     "name": "stdout",
     "output_type": "stream",
     "text": [
      "{'no': 0, 'please': 1, 'thanks': 2, 'welcome': 3, 'yes': 4, 'noaction': 5}\n",
      "X Shape: (360, 30, 258)\n",
      "y Shape: (360, 6)\n",
      "X_train Shape: (288, 30, 258)\n",
      "y_train Shape: (288, 6)\n",
      "X_test Shape: (72, 30, 258)\n",
      "y_test Shape: (72, 6)\n"
     ]
    }
   ],
   "source": [
    "#Define Path to training data of numpy arrays\n",
    "#DATA_PATH = os.path.join('MP_Data_bp_hp')\n",
    "#DATA_PATH = os.path.join('MP_Data-6classes') # including facemesh\n",
    "\n",
    "DATA_PATH = os.path.join('MP_Data') # including facemesh\n",
    "\n",
    "# Define Model Run\n",
    "run = 'run'\n",
    "\n",
    "#Define directory to save training graphs and confusion matrices\n",
    "img_dir = f'Logs/{run}/images'\n",
    "\n",
    "# create directory if image directory does not exist\n",
    "if not os.path.exists(img_dir):\n",
    "    os.makedirs(img_dir)    \n",
    "\n",
    "# Define actions that we try to detect\n",
    "actions = np.array(['no', 'please', 'thanks', 'welcome', 'yes', 'noaction'])\n",
    "\n",
    "# Sixty videos worth of data for each action\n",
    "no_sequences = 60\n",
    "# Videos are going to be 30 frames in length (30 frames of data for each action)\n",
    "sequence_length = 30\n",
    "\n",
    "#create label map dictionary\n",
    "label_map = {label:num for num, label in enumerate(actions)} \n",
    "print(label_map)\n",
    "\n",
    "#sequences represent x data, labels represent y data/the action classes.\n",
    "sequences, labels = [], []\n",
    "#Loop through the action classes you want to detect\n",
    "for action in actions:\n",
    "    #loop through each sequence\n",
    "    for sequence in np.array(os.listdir(os.path.join(DATA_PATH, action))).astype(int):\n",
    "        window = []\n",
    "        for frame_num in range(sequence_length):\n",
    "            res = np.load(os.path.join(DATA_PATH, action, str(sequence), \"{}.npy\".format(frame_num)))\n",
    "            window.append(res)\n",
    "        sequences.append(window)\n",
    "        labels.append(label_map[action])\n",
    "\n",
    "# X = Training Data that contains spatial coordinates x,y,z of landmarks\n",
    "X = np.array(sequences)\n",
    "\n",
    "# y = categorical labels\n",
    "y = to_categorical(labels).astype(int) #one-hot-encoding to catergorical variable\n",
    "\n",
    "print('X Shape:',X.shape)\n",
    "print('y Shape:',y.shape)\n",
    "\n",
    "# train test split (80% train,20% test)\n",
    "X_train, X_test, y_train, y_test = train_test_split(X, y, test_size=0.20,stratify=y)\n",
    "\n",
    "print('X_train Shape:',X_train.shape)\n",
    "print('y_train Shape:',y_train.shape)\n",
    "print('X_test Shape:',X_test.shape)\n",
    "print('y_test Shape:',y_test.shape)\n",
    "\n",
    "# split imbalanced dataset into train and test sets with stratification\n",
    "test_count_label = tf.reduce_sum(y_test, axis=0)\n",
    "train_count_label = tf.reduce_sum(y_train, axis=0)"
   ]
  },
  {
   "cell_type": "code",
   "execution_count": 4,
   "id": "948fd40d",
   "metadata": {},
   "outputs": [
    {
     "data": {
      "text/plain": [
       "['no', 'please', 'thanks', 'welcome', 'yes', 'noaction']"
      ]
     },
     "execution_count": 4,
     "metadata": {},
     "output_type": "execute_result"
    }
   ],
   "source": [
    "# Show categorical list\n",
    "actions.tolist()"
   ]
  },
  {
   "cell_type": "code",
   "execution_count": 5,
   "id": "2acb89eb",
   "metadata": {},
   "outputs": [
    {
     "data": {
      "text/html": [
       "<div>\n",
       "<style scoped>\n",
       "    .dataframe tbody tr th:only-of-type {\n",
       "        vertical-align: middle;\n",
       "    }\n",
       "\n",
       "    .dataframe tbody tr th {\n",
       "        vertical-align: top;\n",
       "    }\n",
       "\n",
       "    .dataframe thead th {\n",
       "        text-align: right;\n",
       "    }\n",
       "</style>\n",
       "<table border=\"1\" class=\"dataframe\">\n",
       "  <thead>\n",
       "    <tr style=\"text-align: right;\">\n",
       "      <th></th>\n",
       "      <th>class_names</th>\n",
       "      <th>train_count</th>\n",
       "      <th>test_count</th>\n",
       "    </tr>\n",
       "  </thead>\n",
       "  <tbody>\n",
       "    <tr>\n",
       "      <th>0</th>\n",
       "      <td>no</td>\n",
       "      <td>48</td>\n",
       "      <td>12</td>\n",
       "    </tr>\n",
       "    <tr>\n",
       "      <th>1</th>\n",
       "      <td>please</td>\n",
       "      <td>48</td>\n",
       "      <td>12</td>\n",
       "    </tr>\n",
       "    <tr>\n",
       "      <th>2</th>\n",
       "      <td>thanks</td>\n",
       "      <td>48</td>\n",
       "      <td>12</td>\n",
       "    </tr>\n",
       "    <tr>\n",
       "      <th>3</th>\n",
       "      <td>welcome</td>\n",
       "      <td>48</td>\n",
       "      <td>12</td>\n",
       "    </tr>\n",
       "    <tr>\n",
       "      <th>4</th>\n",
       "      <td>yes</td>\n",
       "      <td>48</td>\n",
       "      <td>12</td>\n",
       "    </tr>\n",
       "    <tr>\n",
       "      <th>5</th>\n",
       "      <td>noaction</td>\n",
       "      <td>48</td>\n",
       "      <td>12</td>\n",
       "    </tr>\n",
       "  </tbody>\n",
       "</table>\n",
       "</div>"
      ],
      "text/plain": [
       "  class_names  train_count  test_count\n",
       "0          no           48          12\n",
       "1      please           48          12\n",
       "2      thanks           48          12\n",
       "3     welcome           48          12\n",
       "4         yes           48          12\n",
       "5    noaction           48          12"
      ]
     },
     "execution_count": 5,
     "metadata": {},
     "output_type": "execute_result"
    }
   ],
   "source": [
    "left = pd.DataFrame(train_count_label,columns=['train_count'])\n",
    "right = pd.DataFrame(test_count_label,columns=['test_count'])\n",
    "df = left.join(right)\n",
    "\n",
    "actions_list = actions.tolist()\n",
    "\n",
    "left = pd.DataFrame(actions_list,columns=['class_names'])\n",
    "df = left.join(df)\n",
    "df"
   ]
  },
  {
   "cell_type": "code",
   "execution_count": 6,
   "id": "2f06b21d",
   "metadata": {},
   "outputs": [
    {
     "data": {
      "text/html": [
       "<div>\n",
       "<style scoped>\n",
       "    .dataframe tbody tr th:only-of-type {\n",
       "        vertical-align: middle;\n",
       "    }\n",
       "\n",
       "    .dataframe tbody tr th {\n",
       "        vertical-align: top;\n",
       "    }\n",
       "\n",
       "    .dataframe thead th {\n",
       "        text-align: right;\n",
       "    }\n",
       "</style>\n",
       "<table border=\"1\" class=\"dataframe\">\n",
       "  <thead>\n",
       "    <tr style=\"text-align: right;\">\n",
       "      <th></th>\n",
       "      <th>class_names</th>\n",
       "      <th>train_count</th>\n",
       "      <th>test_count</th>\n",
       "    </tr>\n",
       "  </thead>\n",
       "  <tbody>\n",
       "    <tr>\n",
       "      <th>0</th>\n",
       "      <td>no</td>\n",
       "      <td>48</td>\n",
       "      <td>12</td>\n",
       "    </tr>\n",
       "    <tr>\n",
       "      <th>1</th>\n",
       "      <td>please</td>\n",
       "      <td>48</td>\n",
       "      <td>12</td>\n",
       "    </tr>\n",
       "    <tr>\n",
       "      <th>2</th>\n",
       "      <td>thanks</td>\n",
       "      <td>48</td>\n",
       "      <td>12</td>\n",
       "    </tr>\n",
       "    <tr>\n",
       "      <th>3</th>\n",
       "      <td>welcome</td>\n",
       "      <td>48</td>\n",
       "      <td>12</td>\n",
       "    </tr>\n",
       "    <tr>\n",
       "      <th>4</th>\n",
       "      <td>yes</td>\n",
       "      <td>48</td>\n",
       "      <td>12</td>\n",
       "    </tr>\n",
       "    <tr>\n",
       "      <th>5</th>\n",
       "      <td>noaction</td>\n",
       "      <td>48</td>\n",
       "      <td>12</td>\n",
       "    </tr>\n",
       "  </tbody>\n",
       "</table>\n",
       "</div>"
      ],
      "text/plain": [
       "  class_names  train_count  test_count\n",
       "0          no           48          12\n",
       "1      please           48          12\n",
       "2      thanks           48          12\n",
       "3     welcome           48          12\n",
       "4         yes           48          12\n",
       "5    noaction           48          12"
      ]
     },
     "execution_count": 6,
     "metadata": {},
     "output_type": "execute_result"
    }
   ],
   "source": [
    "left = pd.DataFrame(train_count_label,columns=['train_count'])\n",
    "right = pd.DataFrame(test_count_label,columns=['test_count'])\n",
    "df = left.join(right)\n",
    "\n",
    "actions_list = actions.tolist()\n",
    "\n",
    "left = pd.DataFrame(actions_list,columns=['class_names'])\n",
    "df = left.join(df)\n",
    "df"
   ]
  },
  {
   "cell_type": "code",
   "execution_count": 7,
   "id": "6fb64bfd",
   "metadata": {},
   "outputs": [
    {
     "data": {
      "image/png": "[encoded data removed]",
      "text/plain": [
       "<Figure size 432x288 with 1 Axes>"
      ]
     },
     "metadata": {
      "needs_background": "light"
     },
     "output_type": "display_data"
    }
   ],
   "source": [
    "# Plot Distribution of Train & Test Data after train_test_split\n",
    "ax = df.plot.bar(x='class_names',rot=0)\n",
    "ax.set_title('Distribution of Train & Test Data after train_test_split')\n",
    "ax.figure.savefig('Logs/run/images/train_test_distribution.jpg')"
   ]
  },
  {
   "cell_type": "markdown",
   "id": "d51f05ab",
   "metadata": {},
   "source": [
    "# 2. Training LSTM Model"
   ]
  },
  {
   "cell_type": "code",
   "execution_count": 8,
   "id": "76c2b492",
   "metadata": {},
   "outputs": [],
   "source": [
    "import os\n",
    "import tensorflow as tf\n",
    "from tensorflow.keras.models import Sequential\n",
    "from tensorflow.keras.layers import LSTM, Dense, Dropout\n",
    "from tensorflow.keras.callbacks import TensorBoard,EarlyStopping\n",
    "\n",
    "#Set up log directory to monitor training accuracy while training\n",
    "log_dir = os.path.join('Logs/{}'.format(run))\n",
    "tb_callback = TensorBoard(log_dir=log_dir)\n",
    "\n",
    "model_dir = 'Logs/{}/model_LSTM'.format(run)\n",
    "if not os.path.exists(model_dir):\n",
    "    os.makedirs(model_dir)"
   ]
  },
  {
   "cell_type": "code",
   "execution_count": 9,
   "id": "9ab991a4",
   "metadata": {},
   "outputs": [],
   "source": [
    "# Build LSTM Model Architecture Layers using Keras high-level\n",
    "\n",
    "modelLSTM = Sequential()\n",
    "modelLSTM.add(LSTM(64, return_sequences=True, activation='relu', input_shape=(30,258))) #each video has input shape of 30 frames of 1662 keypoints: X.shape\n",
    "modelLSTM.add(Dropout(0.2))\n",
    "modelLSTM.add(LSTM(128, return_sequences=True, activation='relu'))\n",
    "modelLSTM.add(Dropout(0.2))\n",
    "modelLSTM.add(LSTM(64, return_sequences=False, activation='relu')) \n",
    "modelLSTM.add(Dense(32, activation='relu'))\n",
    "modelLSTM.add(Dense(actions.shape[0], activation='softmax'))"
   ]
  },
  {
   "cell_type": "code",
   "execution_count": null,
   "id": "d965da45",
   "metadata": {},
   "outputs": [],
   "source": [
    "#Compile defines the loss function, the optimizer and the metrics. \n",
    "modelLSTM.compile(optimizer='Adam', loss='categorical_crossentropy', metrics=['categorical_accuracy'])"
   ]
  },
  {
   "cell_type": "code",
   "execution_count": null,
   "id": "2692e034",
   "metadata": {},
   "outputs": [],
   "source": [
    "modelLSTM.summary()"
   ]
  },
  {
   "cell_type": "code",
   "execution_count": null,
   "id": "a323469c",
   "metadata": {},
   "outputs": [],
   "source": [
    "epochs = 100\n",
    "#checkpoint_dir = f\"Logs/{run}/tmp/checkpoint\"\n",
    "model_filename = \"Epoch-{epoch:02d}-Loss-{val_loss:.2f}.h5\"\n",
    "checkpoint_filepath = os.path.join('model_LSTM/',model_filename)\n",
    "\n",
    "model_checkpoint_callback = tf.keras.callbacks.ModelCheckpoint(\n",
    "    filepath=f'Logs/{run}/'+checkpoint_filepath,\n",
    "    monitor='val_loss', #get the minimum validation loss\n",
    "    mode='min',\n",
    "    save_weights_only=True,\n",
    "    save_best_only=True,\n",
    "    verbose=2)\n",
    "\n",
    "# Reference: https://towardsdatascience.com/a-practical-introduction-to-early-stopping-in-machine-learning-550ac88bc8fd\n",
    "early_stopping =EarlyStopping(monitor='val_loss', patience=20,mode='auto',verbose=2)"
   ]
  },
  {
   "cell_type": "code",
   "execution_count": null,
   "id": "2bd5ed8d",
   "metadata": {},
   "outputs": [],
   "source": [
    "#DO NOT RUN IF DONT WANT TO TRAIN\n",
    "# Reference: https://www.tensorflow.org/guide/keras/train_and_evaluate\n",
    "print(f\"Fit model on training data for {epochs} epochs\")\n",
    "history_LSTM = modelLSTM.fit(\n",
    "    X_train, y_train, \n",
    "    #batch_size=64,\n",
    "    epochs=epochs,\n",
    "    # We pass some validation data for monitoring validation loss and metrics at the end of each epoch\n",
    "    validation_data=(X_test, y_test),\n",
    "    verbose=2,\n",
    "    batch_size=32,\n",
    "    callbacks=[tb_callback, model_checkpoint_callback, early_stopping]\n",
    ")\n",
    "\n",
    "#https://stats.stackexchange.com/questions/153531/what-is-batch-size-in-neural-network\n"
   ]
  },
  {
   "cell_type": "markdown",
   "id": "f4ea955a",
   "metadata": {},
   "source": [
    "# 3. Plot Training Results"
   ]
  },
  {
   "cell_type": "code",
   "execution_count": null,
   "id": "db9637d0",
   "metadata": {},
   "outputs": [],
   "source": [
    "import pandas as pd\n",
    "# convert the history.history dict to a pandas DataFrame:     \n",
    "hist_df = pd.DataFrame(history_LSTM.history) \n",
    "\n",
    "hist_df.to_csv(f'./Logs/{run}/history.csv',index = False)\n",
    "\n",
    "df_hist = pd.read_csv(f'./Logs/{run}/history.csv')\n",
    "hist_df"
   ]
  },
  {
   "cell_type": "code",
   "execution_count": null,
   "id": "43c2741f",
   "metadata": {},
   "outputs": [],
   "source": [
    "min_loss_epoch = hist_df[hist_df['loss']==min(hist_df['loss'])].index.values\n",
    "min_loss = min(hist_df['loss'])\n",
    "print('Index of Minimum Loss =',min_loss_epoch[0])\n",
    "print('Minimum Loss =',round(min_loss,2))"
   ]
  },
  {
   "cell_type": "code",
   "execution_count": null,
   "id": "e724b703",
   "metadata": {},
   "outputs": [],
   "source": [
    "# summarize history for accuracy\n",
    "plt.plot(history_LSTM.history['categorical_accuracy'])\n",
    "plt.plot(history_LSTM.history['val_categorical_accuracy'])\n",
    "plt.title('Model Training and Validation Categorical Accuracy LSTM')\n",
    "plt.ylabel('categorical_accuracy')\n",
    "plt.xlabel('epoch')\n",
    "plt.legend(['train', 'validation'], loc='upper left')\n",
    "plt.savefig(f'{img_dir}/Model Training and Validation Categorical Accuracy LSTM.jpg')\n",
    "plt.show()\n",
    "\n",
    "# summarize history for loss\n",
    "plt.plot(history_LSTM.history['loss'])\n",
    "plt.plot(history_LSTM.history['val_loss'])\n",
    "plt.title('Model Training and Validation Loss LSTM')\n",
    "plt.ylabel('loss')\n",
    "plt.xlabel('epoch')\n",
    "plt.legend(['train', 'validation'], loc='upper left')\n",
    "plt.savefig(f'{img_dir}/Model Training and Validation Loss LSTM.jpg')\n",
    "plt.show()"
   ]
  },
  {
   "cell_type": "markdown",
   "id": "0540877a",
   "metadata": {},
   "source": [
    "# 4. Load Best Model Weights/Checkpoint"
   ]
  },
  {
   "cell_type": "code",
   "execution_count": null,
   "id": "80e578d0",
   "metadata": {},
   "outputs": [],
   "source": [
    "#PATH: \"C:\\Users\\yasmi\\Desktop\\data science\\Logs\\run_version2training\\model\\Epoch-72-Loss-0.15.h5\"\n",
    "\n",
    "modelLSTM.load_weights(\"C:/Users/yasmi/Desktop/finalized ds project/Logs/run/model_LSTM/Epoch-11-Loss-0.08.h5\")"
   ]
  },
  {
   "cell_type": "markdown",
   "id": "e6275ed2",
   "metadata": {},
   "source": [
    "# 7. Make Predictions on X_test"
   ]
  },
  {
   "cell_type": "code",
   "execution_count": null,
   "id": "f590f0c0",
   "metadata": {},
   "outputs": [],
   "source": [
    "res = modelLSTM.predict(X_test)\n",
    "\n",
    "# Get y_predict and apply softmax function\n",
    "np.argmax(res[6])"
   ]
  },
  {
   "cell_type": "code",
   "execution_count": null,
   "id": "4f596123",
   "metadata": {},
   "outputs": [],
   "source": [
    "# Predicted Action\n",
    "actions[np.argmax(res[4])]"
   ]
  },
  {
   "cell_type": "code",
   "execution_count": null,
   "id": "ba47e3c1",
   "metadata": {},
   "outputs": [],
   "source": [
    "# Actual Action\n",
    "actions[np.argmax(y_test[4])]"
   ]
  },
  {
   "cell_type": "markdown",
   "id": "af712a97",
   "metadata": {},
   "source": [
    "# 8. Model Evaluation (Categorical Accuracy and Confusion Matrix)\n",
    "Running these cells converts the predicition from their one-hot encoded representation to a categorical label e.g. 0,1 or 2 as opoosed to [1,0,0], [0,1,0] or [0,0,1]."
   ]
  },
  {
   "cell_type": "code",
   "execution_count": null,
   "id": "0775c7da",
   "metadata": {},
   "outputs": [],
   "source": [
    "X_test.shape"
   ]
  },
  {
   "cell_type": "code",
   "execution_count": null,
   "id": "03bfd66f",
   "metadata": {},
   "outputs": [],
   "source": [
    "label_list = ['no', 'please', 'thanks', 'welcome', 'yes', 'noaction']\n",
    "label_list"
   ]
  },
  {
   "cell_type": "code",
   "execution_count": null,
   "id": "99f99c5d",
   "metadata": {},
   "outputs": [],
   "source": [
    "label_list = list(label_map.keys())\n",
    "label_list"
   ]
  },
  {
   "cell_type": "code",
   "execution_count": null,
   "id": "38bed208",
   "metadata": {},
   "outputs": [],
   "source": [
    "generate_confusion_matrix_accuracy(X_test,y_test,'Test')"
   ]
  },
  {
   "cell_type": "code",
   "execution_count": null,
   "id": "d9dc1585",
   "metadata": {},
   "outputs": [],
   "source": [
    "from sklearn.metrics import precision_recall_fscore_support, accuracy_score\n",
    "\n",
    "# predict on test data\n",
    "y_pred = modelLSTM.predict(X_test)\n",
    "\n",
    "# convert predictions to binary labels\n",
    "y_pred = (y_pred > 0.5)\n",
    "\n",
    "# calculate precision, recall, f1-score, and accuracy\n",
    "precision, recall, f1_score, _ = precision_recall_fscore_support(y_test, y_pred)\n",
    "accuracy = accuracy_score(y_test, y_pred)\n",
    "\n",
    "print(\"Precision: \", precision)\n",
    "print(\"Recall: \", recall)\n",
    "print(\"F1-Score: \", f1_score)\n",
    "print(\"Accuracy: \", accuracy)\n",
    "\n"
   ]
  },
  {
   "cell_type": "code",
   "execution_count": null,
   "id": "67c2c9bd",
   "metadata": {},
   "outputs": [],
   "source": [
    "colors = [(245,221,173), (245,185,265), (146,235,193),(204,152,295),(255,217,179),(0,0,179)]\n",
    "\n",
    "def prob_viz(res, actions, input_frame, colors):\n",
    "    output_frame = input_frame.copy()\n",
    "    for num, prob in enumerate(res):\n",
    "        cv2.rectangle(output_frame, (0,60+num*40), (int(prob*100), 90+num*40), colors[num], -1)\n",
    "        cv2.putText(output_frame, actions[num], (0, 85+num*40), cv2.FONT_HERSHEY_SIMPLEX, 1, (255,255,255), 2, cv2.LINE_AA)\n",
    "        \n",
    "    return output_frame"
   ]
  },
  {
   "cell_type": "code",
   "execution_count": null,
   "id": "0118d41c",
   "metadata": {},
   "outputs": [],
   "source": [
    "# 1. New detection variables\n",
    "\n",
    "#collect 30 frames\n",
    "sequence = []\n",
    "\n",
    "#concantenate \n",
    "sentence = []\n",
    "\n",
    "#confident matrix\n",
    "threshold = 0.8\n",
    "\n",
    "cap = cv2.VideoCapture(0)\n",
    "# Set mediapipe model \n",
    "with mp_holistic.Holistic(min_detection_confidence=0.5, min_tracking_confidence=0.5) as holistic:\n",
    "    while cap.isOpened():\n",
    "\n",
    "        # Read feed\n",
    "        ret, frame = cap.read()\n",
    "\n",
    "        # Make detections\n",
    "        image, results = mediapipe_detection(frame, holistic)\n",
    "        print(results)\n",
    "        \n",
    "        # Draw landmarks\n",
    "        draw_styled_landmarks(image, results)\n",
    "        \n",
    "        # 2. Prediction logic\n",
    "        keypoints = extract_keypoints(results)\n",
    "#         sequence.insert(0,keypoints)\n",
    "#         sequence = sequence[:30]\n",
    "        sequence.append(keypoints)\n",
    "        sequence = sequence[-30:]\n",
    "        \n",
    "        if len(sequence) == 30:\n",
    "            res = model.predict(np.expand_dims(sequence, axis=0))[0]\n",
    "            print(actions[np.argmax(res)])\n",
    "            \n",
    "            \n",
    "        #3. Viz logic\n",
    "            if res[np.argmax(res)] > threshold: \n",
    "                if len(sentence) > 0: \n",
    "                    if actions[np.argmax(res)] != sentence[-1]:\n",
    "                        sentence.append(actions[np.argmax(res)])\n",
    "                else:\n",
    "                    sentence.append(actions[np.argmax(res)])\n",
    "\n",
    "            if len(sentence) > 5: \n",
    "                sentence = sentence[-5:]\n",
    "\n",
    "            # Viz probabilities\n",
    "            image = prob_viz(res, actions, image, colors)\n",
    "            \n",
    "        cv2.rectangle(image, (0,0), (640, 40), (245, 117, 16), -1)\n",
    "        cv2.putText(image, ' '.join(sentence), (3,30), \n",
    "                       cv2.FONT_HERSHEY_SIMPLEX, 1, (255, 255, 255), 2, cv2.LINE_AA)\n",
    "        \n",
    "        # Show to screen\n",
    "        cv2.imshow('OpenCV Feed', image)\n",
    "\n",
    "        # Break gracefully\n",
    "        if cv2.waitKey(10) & 0xFF == ord('q'):\n",
    "            break\n",
    "    cap.release()\n",
    "    cv2.destroyAllWindows()"
   ]
  }
 ],
 "metadata": {
  "kernelspec": {
   "display_name": "Python 3 (ipykernel)",
   "language": "python",
   "name": "python3"
  },
  "language_info": {
   "codemirror_mode": {
    "name": "ipython",
    "version": 3
   },
   "file_extension": ".py",
   "mimetype": "text/x-python",
   "name": "python",
   "nbconvert_exporter": "python",
   "pygments_lexer": "ipython3",
   "version": "3.9.12"
  }
 },
 "nbformat": 4,
 "nbformat_minor": 5
}
