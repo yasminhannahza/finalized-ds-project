{
 "cells": [
  {
   "cell_type": "markdown",
   "id": "4f228295",
   "metadata": {},
   "source": [
    "# 1. Preprocess Data and Create Labels and Features"
   ]
  },
  {
   "cell_type": "code",
   "execution_count": 12,
   "id": "d54d8f6f",
   "metadata": {},
   "outputs": [],
   "source": [
    "import cv2\n",
    "import numpy as np\n",
    "import os\n",
    "from matplotlib import pyplot as plt\n",
    "import time\n",
    "import mediapipe as mp\n",
    "from tensorflow.keras.models import Sequential\n",
    "from tensorflow.keras.layers import LSTM, Dense, Dropout\n",
    "from tensorflow.keras.callbacks import TensorBoard\n",
    "from tensorflow.keras.utils import plot_model\n",
    "\n",
    "from sklearn.model_selection import train_test_split\n",
    "from tensorflow.keras.utils import to_categorical\n",
    "\n",
    "import tensorflow as tf\n",
    "import pandas as pd\n",
    "\n",
    "from tensorflow.keras.callbacks import EarlyStopping"
   ]
  },
  {
   "cell_type": "code",
   "execution_count": 2,
   "id": "e45bb8bb",
   "metadata": {},
   "outputs": [
    {
     "name": "stdout",
     "output_type": "stream",
     "text": [
      "{'no': 0, 'please': 1, 'thanks': 2, 'welcome': 3, 'yes': 4, 'noaction': 5}\n",
      "X Shape: (360, 30, 258)\n",
      "y Shape: (360, 6)\n",
      "X_train Shape: (288, 30, 258)\n",
      "y_train Shape: (288, 6)\n",
      "X_test Shape: (72, 30, 258)\n",
      "y_test Shape: (72, 6)\n"
     ]
    }
   ],
   "source": [
    "#Define Path to training data of numpy arrays\n",
    "#DATA_PATH = os.path.join('MP_Data_bp_hp')\n",
    "#DATA_PATH = os.path.join('MP_Data-6classes') # including facemesh\n",
    "\n",
    "DATA_PATH = os.path.join('MP_Data') # including facemesh\n",
    "\n",
    "# Define Model Run\n",
    "run = 'run'\n",
    "\n",
    "#Define directory to save training graphs and confusion matrices\n",
    "img_dir = f'Logs/{run}/images'\n",
    "\n",
    "# create directory if image directory does not exist\n",
    "if not os.path.exists(img_dir):\n",
    "    os.makedirs(img_dir)    \n",
    "\n",
    "# Define actions that we try to detect\n",
    "actions = np.array(['no', 'please', 'thanks', 'welcome', 'yes', 'noaction'])\n",
    "\n",
    "# Sixty videos worth of data for each action\n",
    "no_sequences = 60\n",
    "# Videos are going to be 30 frames in length (30 frames of data for each action)\n",
    "sequence_length = 30\n",
    "\n",
    "#create label map dictionary\n",
    "label_map = {label:num for num, label in enumerate(actions)} \n",
    "print(label_map)\n",
    "\n",
    "#sequences represent x data, labels represent y data/the action classes.\n",
    "sequences, labels = [], []\n",
    "#Loop through the action classes you want to detect\n",
    "for action in actions:\n",
    "    #loop through each sequence\n",
    "    for sequence in np.array(os.listdir(os.path.join(DATA_PATH, action))).astype(int):\n",
    "        window = []\n",
    "        for frame_num in range(sequence_length):\n",
    "            res = np.load(os.path.join(DATA_PATH, action, str(sequence), \"{}.npy\".format(frame_num)))\n",
    "            window.append(res)\n",
    "        sequences.append(window)\n",
    "        labels.append(label_map[action])\n",
    "\n",
    "# X = Training Data that contains spatial coordinates x,y,z of landmarks\n",
    "X = np.array(sequences)\n",
    "\n",
    "# y = categorical labels\n",
    "y = to_categorical(labels).astype(int) #one-hot-encoding to catergorical variable\n",
    "\n",
    "print('X Shape:',X.shape)\n",
    "print('y Shape:',y.shape)\n",
    "\n",
    "# train test split (80% train,20% test)\n",
    "X_train, X_test, y_train, y_test = train_test_split(X, y, test_size=0.20,stratify=y)\n",
    "\n",
    "print('X_train Shape:',X_train.shape)\n",
    "print('y_train Shape:',y_train.shape)\n",
    "print('X_test Shape:',X_test.shape)\n",
    "print('y_test Shape:',y_test.shape)\n",
    "\n",
    "# split imbalanced dataset into train and test sets with stratification\n",
    "test_count_label = tf.reduce_sum(y_test, axis=0)\n",
    "train_count_label = tf.reduce_sum(y_train, axis=0)"
   ]
  },
  {
   "cell_type": "code",
   "execution_count": 3,
   "id": "948fd40d",
   "metadata": {},
   "outputs": [
    {
     "data": {
      "text/plain": [
       "['no', 'please', 'thanks', 'welcome', 'yes', 'noaction']"
      ]
     },
     "execution_count": 3,
     "metadata": {},
     "output_type": "execute_result"
    }
   ],
   "source": [
    "# Show categorical list\n",
    "actions.tolist()"
   ]
  },
  {
   "cell_type": "code",
   "execution_count": 4,
   "id": "2acb89eb",
   "metadata": {},
   "outputs": [
    {
     "data": {
      "text/html": [
       "<div>\n",
       "<style scoped>\n",
       "    .dataframe tbody tr th:only-of-type {\n",
       "        vertical-align: middle;\n",
       "    }\n",
       "\n",
       "    .dataframe tbody tr th {\n",
       "        vertical-align: top;\n",
       "    }\n",
       "\n",
       "    .dataframe thead th {\n",
       "        text-align: right;\n",
       "    }\n",
       "</style>\n",
       "<table border=\"1\" class=\"dataframe\">\n",
       "  <thead>\n",
       "    <tr style=\"text-align: right;\">\n",
       "      <th></th>\n",
       "      <th>class_names</th>\n",
       "      <th>train_count</th>\n",
       "      <th>test_count</th>\n",
       "    </tr>\n",
       "  </thead>\n",
       "  <tbody>\n",
       "    <tr>\n",
       "      <th>0</th>\n",
       "      <td>no</td>\n",
       "      <td>48</td>\n",
       "      <td>12</td>\n",
       "    </tr>\n",
       "    <tr>\n",
       "      <th>1</th>\n",
       "      <td>please</td>\n",
       "      <td>48</td>\n",
       "      <td>12</td>\n",
       "    </tr>\n",
       "    <tr>\n",
       "      <th>2</th>\n",
       "      <td>thanks</td>\n",
       "      <td>48</td>\n",
       "      <td>12</td>\n",
       "    </tr>\n",
       "    <tr>\n",
       "      <th>3</th>\n",
       "      <td>welcome</td>\n",
       "      <td>48</td>\n",
       "      <td>12</td>\n",
       "    </tr>\n",
       "    <tr>\n",
       "      <th>4</th>\n",
       "      <td>yes</td>\n",
       "      <td>48</td>\n",
       "      <td>12</td>\n",
       "    </tr>\n",
       "    <tr>\n",
       "      <th>5</th>\n",
       "      <td>noaction</td>\n",
       "      <td>48</td>\n",
       "      <td>12</td>\n",
       "    </tr>\n",
       "  </tbody>\n",
       "</table>\n",
       "</div>"
      ],
      "text/plain": [
       "  class_names  train_count  test_count\n",
       "0          no           48          12\n",
       "1      please           48          12\n",
       "2      thanks           48          12\n",
       "3     welcome           48          12\n",
       "4         yes           48          12\n",
       "5    noaction           48          12"
      ]
     },
     "execution_count": 4,
     "metadata": {},
     "output_type": "execute_result"
    }
   ],
   "source": [
    "left = pd.DataFrame(train_count_label,columns=['train_count'])\n",
    "right = pd.DataFrame(test_count_label,columns=['test_count'])\n",
    "df = left.join(right)\n",
    "\n",
    "actions_list = actions.tolist()\n",
    "\n",
    "left = pd.DataFrame(actions_list,columns=['class_names'])\n",
    "df = left.join(df)\n",
    "df"
   ]
  },
  {
   "cell_type": "code",
   "execution_count": 5,
   "id": "2f06b21d",
   "metadata": {},
   "outputs": [
    {
     "data": {
      "text/html": [
       "<div>\n",
       "<style scoped>\n",
       "    .dataframe tbody tr th:only-of-type {\n",
       "        vertical-align: middle;\n",
       "    }\n",
       "\n",
       "    .dataframe tbody tr th {\n",
       "        vertical-align: top;\n",
       "    }\n",
       "\n",
       "    .dataframe thead th {\n",
       "        text-align: right;\n",
       "    }\n",
       "</style>\n",
       "<table border=\"1\" class=\"dataframe\">\n",
       "  <thead>\n",
       "    <tr style=\"text-align: right;\">\n",
       "      <th></th>\n",
       "      <th>class_names</th>\n",
       "      <th>train_count</th>\n",
       "      <th>test_count</th>\n",
       "    </tr>\n",
       "  </thead>\n",
       "  <tbody>\n",
       "    <tr>\n",
       "      <th>0</th>\n",
       "      <td>no</td>\n",
       "      <td>48</td>\n",
       "      <td>12</td>\n",
       "    </tr>\n",
       "    <tr>\n",
       "      <th>1</th>\n",
       "      <td>please</td>\n",
       "      <td>48</td>\n",
       "      <td>12</td>\n",
       "    </tr>\n",
       "    <tr>\n",
       "      <th>2</th>\n",
       "      <td>thanks</td>\n",
       "      <td>48</td>\n",
       "      <td>12</td>\n",
       "    </tr>\n",
       "    <tr>\n",
       "      <th>3</th>\n",
       "      <td>welcome</td>\n",
       "      <td>48</td>\n",
       "      <td>12</td>\n",
       "    </tr>\n",
       "    <tr>\n",
       "      <th>4</th>\n",
       "      <td>yes</td>\n",
       "      <td>48</td>\n",
       "      <td>12</td>\n",
       "    </tr>\n",
       "    <tr>\n",
       "      <th>5</th>\n",
       "      <td>noaction</td>\n",
       "      <td>48</td>\n",
       "      <td>12</td>\n",
       "    </tr>\n",
       "  </tbody>\n",
       "</table>\n",
       "</div>"
      ],
      "text/plain": [
       "  class_names  train_count  test_count\n",
       "0          no           48          12\n",
       "1      please           48          12\n",
       "2      thanks           48          12\n",
       "3     welcome           48          12\n",
       "4         yes           48          12\n",
       "5    noaction           48          12"
      ]
     },
     "execution_count": 5,
     "metadata": {},
     "output_type": "execute_result"
    }
   ],
   "source": [
    "left = pd.DataFrame(train_count_label,columns=['train_count'])\n",
    "right = pd.DataFrame(test_count_label,columns=['test_count'])\n",
    "df = left.join(right)\n",
    "\n",
    "actions_list = actions.tolist()\n",
    "\n",
    "left = pd.DataFrame(actions_list,columns=['class_names'])\n",
    "df = left.join(df)\n",
    "df"
   ]
  },
  {
   "cell_type": "code",
   "execution_count": 6,
   "id": "6fb64bfd",
   "metadata": {},
   "outputs": [
    {
     "data": {
      "image/png": "[encoded data removed]",
      "text/plain": [
       "<Figure size 432x288 with 1 Axes>"
      ]
     },
     "metadata": {
      "needs_background": "light"
     },
     "output_type": "display_data"
    }
   ],
   "source": [
    "# Plot Distribution of Train & Test Data after train_test_split\n",
    "ax = df.plot.bar(x='class_names',rot=0)\n",
    "ax.set_title('Distribution of Train & Test Data after train_test_split')\n",
    "ax.figure.savefig('Logs/run/images/train_test_distribution.jpg')"
   ]
  },
  {
   "cell_type": "markdown",
   "id": "e63ace8a",
   "metadata": {},
   "source": [
    "# 2. CNN Model"
   ]
  },
  {
   "cell_type": "code",
   "execution_count": 7,
   "id": "986e7dd8",
   "metadata": {},
   "outputs": [],
   "source": [
    "from keras.models import Sequential\n",
    "from keras.layers import Conv2D, MaxPooling2D, Flatten, Dense\n",
    "from keras.optimizers import Adam\n",
    "\n",
    "#Set up log directory to monitor training accuracy while training\n",
    "log_dir = os.path.join('Logs/{}'.format(run))\n",
    "tb_callback = TensorBoard(log_dir=log_dir)\n",
    "\n",
    "model_dir = 'Logs/{}/model_CNN'.format(run)\n",
    "if not os.path.exists(model_dir):\n",
    "    os.makedirs(model_dir)"
   ]
  },
  {
   "cell_type": "code",
   "execution_count": 8,
   "id": "3bf0c700",
   "metadata": {},
   "outputs": [],
   "source": [
    "# define the model\n",
    "modelCNN = Sequential()\n",
    "modelCNN.add(Conv2D(32, kernel_size=(3,3), activation='relu', input_shape=(30, 258, 1)))\n",
    "modelCNN.add(MaxPooling2D(pool_size=(2,2)))\n",
    "modelCNN.add(Conv2D(64, kernel_size=(3,3), activation='relu'))\n",
    "modelCNN.add(MaxPooling2D(pool_size=(2,2)))\n",
    "modelCNN.add(Flatten())\n",
    "modelCNN.add(Dense(128, activation='relu'))\n",
    "modelCNN.add(Dense(actions.shape[0], activation='softmax'))\n"
   ]
  },
  {
   "cell_type": "code",
   "execution_count": 9,
   "id": "765fa67a",
   "metadata": {},
   "outputs": [],
   "source": [
    "#Compile defines the loss function, the optimizer and the metrics. \n",
    "modelCNN.compile(optimizer='Adam', loss='categorical_crossentropy', metrics=['categorical_accuracy'])"
   ]
  },
  {
   "cell_type": "code",
   "execution_count": 10,
   "id": "7a16d58a",
   "metadata": {},
   "outputs": [
    {
     "name": "stdout",
     "output_type": "stream",
     "text": [
      "Model: \"sequential\"\n",
      "_________________________________________________________________\n",
      " Layer (type)                Output Shape              Param #   \n",
      "=================================================================\n",
      " conv2d (Conv2D)             (None, 28, 256, 32)       320       \n",
      "                                                                 \n",
      " max_pooling2d (MaxPooling2D  (None, 14, 128, 32)      0         \n",
      " )                                                               \n",
      "                                                                 \n",
      " conv2d_1 (Conv2D)           (None, 12, 126, 64)       18496     \n",
      "                                                                 \n",
      " max_pooling2d_1 (MaxPooling  (None, 6, 63, 64)        0         \n",
      " 2D)                                                             \n",
      "                                                                 \n",
      " flatten (Flatten)           (None, 24192)             0         \n",
      "                                                                 \n",
      " dense (Dense)               (None, 128)               3096704   \n",
      "                                                                 \n",
      " dense_1 (Dense)             (None, 6)                 774       \n",
      "                                                                 \n",
      "=================================================================\n",
      "Total params: 3,116,294\n",
      "Trainable params: 3,116,294\n",
      "Non-trainable params: 0\n",
      "_________________________________________________________________\n"
     ]
    }
   ],
   "source": [
    "modelCNN.summary()"
   ]
  },
  {
   "cell_type": "code",
   "execution_count": 13,
   "id": "507528c9",
   "metadata": {},
   "outputs": [],
   "source": [
    "epochs = 100\n",
    "#checkpoint_dir = f\"Logs/{run}/tmp/checkpoint\"\n",
    "model_filename = \"Epoch-{epoch:02d}-Loss-{val_loss:.2f}.h5\"\n",
    "checkpoint_filepath = os.path.join('model_CNN/',model_filename)\n",
    "\n",
    "model_checkpoint_callback = tf.keras.callbacks.ModelCheckpoint(\n",
    "    filepath=f'Logs/{run}/'+checkpoint_filepath,\n",
    "    monitor='val_loss', #get the minimum validation loss\n",
    "    mode='min',\n",
    "    save_weights_only=True,\n",
    "    save_best_only=True,\n",
    "    verbose=2)\n",
    "\n",
    "# Reference: https://towardsdatascience.com/a-practical-introduction-to-early-stopping-in-machine-learning-550ac88bc8fd\n",
    "early_stopping =EarlyStopping(monitor='val_loss', patience=20,mode='auto',verbose=2)"
   ]
  },
  {
   "cell_type": "code",
   "execution_count": 14,
   "id": "6e8cd162",
   "metadata": {},
   "outputs": [
    {
     "name": "stdout",
     "output_type": "stream",
     "text": [
      "Fit model on training data for 100 epochs\n",
      "Epoch 1/100\n",
      "\n",
      "Epoch 1: val_loss improved from inf to 1.70524, saving model to Logs/run/model_CNN\\Epoch-01-Loss-1.71.h5\n",
      "9/9 - 1s - loss: 2.0688 - categorical_accuracy: 0.2500 - val_loss: 1.7052 - val_categorical_accuracy: 0.3750 - 1s/epoch - 159ms/step\n",
      "Epoch 2/100\n",
      "\n",
      "Epoch 2: val_loss improved from 1.70524 to 1.46148, saving model to Logs/run/model_CNN\\Epoch-02-Loss-1.46.h5\n",
      "9/9 - 1s - loss: 1.5945 - categorical_accuracy: 0.4410 - val_loss: 1.4615 - val_categorical_accuracy: 0.5278 - 778ms/epoch - 86ms/step\n",
      "Epoch 3/100\n",
      "\n",
      "Epoch 3: val_loss improved from 1.46148 to 1.10152, saving model to Logs/run/model_CNN\\Epoch-03-Loss-1.10.h5\n",
      "9/9 - 1s - loss: 1.2818 - categorical_accuracy: 0.4931 - val_loss: 1.1015 - val_categorical_accuracy: 0.6250 - 785ms/epoch - 87ms/step\n",
      "Epoch 4/100\n",
      "\n",
      "Epoch 4: val_loss improved from 1.10152 to 0.94346, saving model to Logs/run/model_CNN\\Epoch-04-Loss-0.94.h5\n",
      "9/9 - 1s - loss: 0.9995 - categorical_accuracy: 0.6146 - val_loss: 0.9435 - val_categorical_accuracy: 0.5694 - 738ms/epoch - 82ms/step\n",
      "Epoch 5/100\n",
      "\n",
      "Epoch 5: val_loss improved from 0.94346 to 0.81476, saving model to Logs/run/model_CNN\\Epoch-05-Loss-0.81.h5\n",
      "9/9 - 1s - loss: 0.7573 - categorical_accuracy: 0.6875 - val_loss: 0.8148 - val_categorical_accuracy: 0.7083 - 758ms/epoch - 84ms/step\n",
      "Epoch 6/100\n",
      "\n",
      "Epoch 6: val_loss did not improve from 0.81476\n",
      "9/9 - 1s - loss: 0.6977 - categorical_accuracy: 0.6736 - val_loss: 0.8521 - val_categorical_accuracy: 0.6250 - 770ms/epoch - 86ms/step\n",
      "Epoch 7/100\n",
      "\n",
      "Epoch 7: val_loss improved from 0.81476 to 0.69592, saving model to Logs/run/model_CNN\\Epoch-07-Loss-0.70.h5\n",
      "9/9 - 1s - loss: 0.5835 - categorical_accuracy: 0.7569 - val_loss: 0.6959 - val_categorical_accuracy: 0.7500 - 757ms/epoch - 84ms/step\n",
      "Epoch 8/100\n",
      "\n",
      "Epoch 8: val_loss did not improve from 0.69592\n",
      "9/9 - 1s - loss: 0.5521 - categorical_accuracy: 0.7778 - val_loss: 0.7281 - val_categorical_accuracy: 0.7083 - 748ms/epoch - 83ms/step\n",
      "Epoch 9/100\n",
      "\n",
      "Epoch 9: val_loss improved from 0.69592 to 0.53524, saving model to Logs/run/model_CNN\\Epoch-09-Loss-0.54.h5\n",
      "9/9 - 1s - loss: 0.4649 - categorical_accuracy: 0.8264 - val_loss: 0.5352 - val_categorical_accuracy: 0.8472 - 767ms/epoch - 85ms/step\n",
      "Epoch 10/100\n",
      "\n",
      "Epoch 10: val_loss improved from 0.53524 to 0.50054, saving model to Logs/run/model_CNN\\Epoch-10-Loss-0.50.h5\n",
      "9/9 - 1s - loss: 0.3712 - categorical_accuracy: 0.8854 - val_loss: 0.5005 - val_categorical_accuracy: 0.8750 - 747ms/epoch - 83ms/step\n",
      "Epoch 11/100\n",
      "\n",
      "Epoch 11: val_loss improved from 0.50054 to 0.44812, saving model to Logs/run/model_CNN\\Epoch-11-Loss-0.45.h5\n",
      "9/9 - 1s - loss: 0.3215 - categorical_accuracy: 0.8924 - val_loss: 0.4481 - val_categorical_accuracy: 0.8611 - 746ms/epoch - 83ms/step\n",
      "Epoch 12/100\n",
      "\n",
      "Epoch 12: val_loss improved from 0.44812 to 0.43324, saving model to Logs/run/model_CNN\\Epoch-12-Loss-0.43.h5\n",
      "9/9 - 1s - loss: 0.2905 - categorical_accuracy: 0.8889 - val_loss: 0.4332 - val_categorical_accuracy: 0.8611 - 672ms/epoch - 75ms/step\n",
      "Epoch 13/100\n",
      "\n",
      "Epoch 13: val_loss did not improve from 0.43324\n",
      "9/9 - 1s - loss: 0.2500 - categorical_accuracy: 0.9097 - val_loss: 0.6019 - val_categorical_accuracy: 0.7361 - 741ms/epoch - 82ms/step\n",
      "Epoch 14/100\n",
      "\n",
      "Epoch 14: val_loss improved from 0.43324 to 0.43169, saving model to Logs/run/model_CNN\\Epoch-14-Loss-0.43.h5\n",
      "9/9 - 1s - loss: 0.2031 - categorical_accuracy: 0.9583 - val_loss: 0.4317 - val_categorical_accuracy: 0.8472 - 679ms/epoch - 75ms/step\n",
      "Epoch 15/100\n",
      "\n",
      "Epoch 15: val_loss improved from 0.43169 to 0.42186, saving model to Logs/run/model_CNN\\Epoch-15-Loss-0.42.h5\n",
      "9/9 - 1s - loss: 0.1497 - categorical_accuracy: 0.9792 - val_loss: 0.4219 - val_categorical_accuracy: 0.8750 - 723ms/epoch - 80ms/step\n",
      "Epoch 16/100\n",
      "\n",
      "Epoch 16: val_loss improved from 0.42186 to 0.32355, saving model to Logs/run/model_CNN\\Epoch-16-Loss-0.32.h5\n",
      "9/9 - 1s - loss: 0.1215 - categorical_accuracy: 0.9653 - val_loss: 0.3235 - val_categorical_accuracy: 0.8750 - 760ms/epoch - 84ms/step\n",
      "Epoch 17/100\n",
      "\n",
      "Epoch 17: val_loss did not improve from 0.32355\n",
      "9/9 - 1s - loss: 0.1311 - categorical_accuracy: 0.9653 - val_loss: 0.3333 - val_categorical_accuracy: 0.8889 - 805ms/epoch - 89ms/step\n",
      "Epoch 18/100\n",
      "\n",
      "Epoch 18: val_loss did not improve from 0.32355\n",
      "9/9 - 1s - loss: 0.1041 - categorical_accuracy: 0.9826 - val_loss: 0.4838 - val_categorical_accuracy: 0.8750 - 805ms/epoch - 89ms/step\n",
      "Epoch 19/100\n",
      "\n",
      "Epoch 19: val_loss did not improve from 0.32355\n",
      "9/9 - 1s - loss: 0.0911 - categorical_accuracy: 0.9861 - val_loss: 0.3631 - val_categorical_accuracy: 0.8889 - 875ms/epoch - 97ms/step\n",
      "Epoch 20/100\n",
      "\n",
      "Epoch 20: val_loss did not improve from 0.32355\n",
      "9/9 - 1s - loss: 0.0656 - categorical_accuracy: 0.9861 - val_loss: 0.3609 - val_categorical_accuracy: 0.8472 - 772ms/epoch - 86ms/step\n",
      "Epoch 21/100\n",
      "\n",
      "Epoch 21: val_loss improved from 0.32355 to 0.32192, saving model to Logs/run/model_CNN\\Epoch-21-Loss-0.32.h5\n",
      "9/9 - 1s - loss: 0.0709 - categorical_accuracy: 0.9931 - val_loss: 0.3219 - val_categorical_accuracy: 0.9028 - 751ms/epoch - 83ms/step\n",
      "Epoch 22/100\n",
      "\n",
      "Epoch 22: val_loss improved from 0.32192 to 0.27648, saving model to Logs/run/model_CNN\\Epoch-22-Loss-0.28.h5\n",
      "9/9 - 1s - loss: 0.0743 - categorical_accuracy: 0.9861 - val_loss: 0.2765 - val_categorical_accuracy: 0.9167 - 751ms/epoch - 83ms/step\n",
      "Epoch 23/100\n",
      "\n",
      "Epoch 23: val_loss did not improve from 0.27648\n",
      "9/9 - 1s - loss: 0.0480 - categorical_accuracy: 0.9965 - val_loss: 0.3162 - val_categorical_accuracy: 0.8889 - 760ms/epoch - 84ms/step\n",
      "Epoch 24/100\n",
      "\n",
      "Epoch 24: val_loss improved from 0.27648 to 0.27225, saving model to Logs/run/model_CNN\\Epoch-24-Loss-0.27.h5\n",
      "9/9 - 1s - loss: 0.0318 - categorical_accuracy: 1.0000 - val_loss: 0.2722 - val_categorical_accuracy: 0.9028 - 860ms/epoch - 96ms/step\n",
      "Epoch 25/100\n",
      "\n",
      "Epoch 25: val_loss improved from 0.27225 to 0.24159, saving model to Logs/run/model_CNN\\Epoch-25-Loss-0.24.h5\n",
      "9/9 - 1s - loss: 0.0247 - categorical_accuracy: 1.0000 - val_loss: 0.2416 - val_categorical_accuracy: 0.9306 - 834ms/epoch - 93ms/step\n",
      "Epoch 26/100\n",
      "\n",
      "Epoch 26: val_loss did not improve from 0.24159\n",
      "9/9 - 1s - loss: 0.0236 - categorical_accuracy: 1.0000 - val_loss: 0.2600 - val_categorical_accuracy: 0.9167 - 715ms/epoch - 79ms/step\n",
      "Epoch 27/100\n",
      "\n",
      "Epoch 27: val_loss did not improve from 0.24159\n",
      "9/9 - 1s - loss: 0.0229 - categorical_accuracy: 1.0000 - val_loss: 0.2692 - val_categorical_accuracy: 0.9167 - 765ms/epoch - 85ms/step\n",
      "Epoch 28/100\n",
      "\n",
      "Epoch 28: val_loss did not improve from 0.24159\n",
      "9/9 - 1s - loss: 0.0197 - categorical_accuracy: 1.0000 - val_loss: 0.2727 - val_categorical_accuracy: 0.9444 - 753ms/epoch - 84ms/step\n",
      "Epoch 29/100\n",
      "\n",
      "Epoch 29: val_loss improved from 0.24159 to 0.21340, saving model to Logs/run/model_CNN\\Epoch-29-Loss-0.21.h5\n",
      "9/9 - 1s - loss: 0.0203 - categorical_accuracy: 1.0000 - val_loss: 0.2134 - val_categorical_accuracy: 0.9306 - 814ms/epoch - 90ms/step\n",
      "Epoch 30/100\n",
      "\n",
      "Epoch 30: val_loss did not improve from 0.21340\n",
      "9/9 - 1s - loss: 0.0186 - categorical_accuracy: 1.0000 - val_loss: 0.2948 - val_categorical_accuracy: 0.9028 - 735ms/epoch - 82ms/step\n",
      "Epoch 31/100\n",
      "\n",
      "Epoch 31: val_loss did not improve from 0.21340\n",
      "9/9 - 1s - loss: 0.0157 - categorical_accuracy: 1.0000 - val_loss: 0.2351 - val_categorical_accuracy: 0.9306 - 725ms/epoch - 81ms/step\n",
      "Epoch 32/100\n",
      "\n",
      "Epoch 32: val_loss did not improve from 0.21340\n",
      "9/9 - 1s - loss: 0.0125 - categorical_accuracy: 1.0000 - val_loss: 0.2523 - val_categorical_accuracy: 0.9306 - 731ms/epoch - 81ms/step\n",
      "Epoch 33/100\n",
      "\n",
      "Epoch 33: val_loss did not improve from 0.21340\n",
      "9/9 - 1s - loss: 0.0111 - categorical_accuracy: 1.0000 - val_loss: 0.2604 - val_categorical_accuracy: 0.9444 - 731ms/epoch - 81ms/step\n",
      "Epoch 34/100\n",
      "\n",
      "Epoch 34: val_loss did not improve from 0.21340\n",
      "9/9 - 1s - loss: 0.0106 - categorical_accuracy: 1.0000 - val_loss: 0.2737 - val_categorical_accuracy: 0.9306 - 703ms/epoch - 78ms/step\n",
      "Epoch 35/100\n",
      "\n",
      "Epoch 35: val_loss did not improve from 0.21340\n",
      "9/9 - 1s - loss: 0.0096 - categorical_accuracy: 1.0000 - val_loss: 0.2390 - val_categorical_accuracy: 0.9444 - 673ms/epoch - 75ms/step\n",
      "Epoch 36/100\n",
      "\n",
      "Epoch 36: val_loss did not improve from 0.21340\n",
      "9/9 - 1s - loss: 0.0084 - categorical_accuracy: 1.0000 - val_loss: 0.2492 - val_categorical_accuracy: 0.9167 - 737ms/epoch - 82ms/step\n"
     ]
    },
    {
     "name": "stdout",
     "output_type": "stream",
     "text": [
      "Epoch 37/100\n",
      "\n",
      "Epoch 37: val_loss did not improve from 0.21340\n",
      "9/9 - 1s - loss: 0.0111 - categorical_accuracy: 1.0000 - val_loss: 0.2421 - val_categorical_accuracy: 0.9444 - 738ms/epoch - 82ms/step\n",
      "Epoch 38/100\n",
      "\n",
      "Epoch 38: val_loss did not improve from 0.21340\n",
      "9/9 - 1s - loss: 0.0084 - categorical_accuracy: 1.0000 - val_loss: 0.3014 - val_categorical_accuracy: 0.9167 - 705ms/epoch - 78ms/step\n",
      "Epoch 39/100\n",
      "\n",
      "Epoch 39: val_loss did not improve from 0.21340\n",
      "9/9 - 1s - loss: 0.0104 - categorical_accuracy: 1.0000 - val_loss: 0.2405 - val_categorical_accuracy: 0.9444 - 762ms/epoch - 85ms/step\n",
      "Epoch 40/100\n",
      "\n",
      "Epoch 40: val_loss did not improve from 0.21340\n",
      "9/9 - 1s - loss: 0.0069 - categorical_accuracy: 1.0000 - val_loss: 0.2501 - val_categorical_accuracy: 0.9306 - 728ms/epoch - 81ms/step\n",
      "Epoch 41/100\n",
      "\n",
      "Epoch 41: val_loss did not improve from 0.21340\n",
      "9/9 - 1s - loss: 0.0060 - categorical_accuracy: 1.0000 - val_loss: 0.2531 - val_categorical_accuracy: 0.9444 - 697ms/epoch - 77ms/step\n",
      "Epoch 42/100\n",
      "\n",
      "Epoch 42: val_loss did not improve from 0.21340\n",
      "9/9 - 1s - loss: 0.0054 - categorical_accuracy: 1.0000 - val_loss: 0.2348 - val_categorical_accuracy: 0.9306 - 672ms/epoch - 75ms/step\n",
      "Epoch 43/100\n",
      "\n",
      "Epoch 43: val_loss did not improve from 0.21340\n",
      "9/9 - 1s - loss: 0.0046 - categorical_accuracy: 1.0000 - val_loss: 0.2583 - val_categorical_accuracy: 0.9444 - 675ms/epoch - 75ms/step\n",
      "Epoch 44/100\n",
      "\n",
      "Epoch 44: val_loss did not improve from 0.21340\n",
      "9/9 - 1s - loss: 0.0056 - categorical_accuracy: 1.0000 - val_loss: 0.2238 - val_categorical_accuracy: 0.9167 - 673ms/epoch - 75ms/step\n",
      "Epoch 45/100\n",
      "\n",
      "Epoch 45: val_loss did not improve from 0.21340\n",
      "9/9 - 1s - loss: 0.0065 - categorical_accuracy: 1.0000 - val_loss: 0.2699 - val_categorical_accuracy: 0.9444 - 679ms/epoch - 75ms/step\n",
      "Epoch 46/100\n",
      "\n",
      "Epoch 46: val_loss did not improve from 0.21340\n",
      "9/9 - 1s - loss: 0.0041 - categorical_accuracy: 1.0000 - val_loss: 0.2447 - val_categorical_accuracy: 0.9444 - 663ms/epoch - 74ms/step\n",
      "Epoch 47/100\n",
      "\n",
      "Epoch 47: val_loss did not improve from 0.21340\n",
      "9/9 - 1s - loss: 0.0037 - categorical_accuracy: 1.0000 - val_loss: 0.2581 - val_categorical_accuracy: 0.9444 - 702ms/epoch - 78ms/step\n",
      "Epoch 48/100\n",
      "\n",
      "Epoch 48: val_loss did not improve from 0.21340\n",
      "9/9 - 1s - loss: 0.0035 - categorical_accuracy: 1.0000 - val_loss: 0.2508 - val_categorical_accuracy: 0.9444 - 678ms/epoch - 75ms/step\n",
      "Epoch 49/100\n",
      "\n",
      "Epoch 49: val_loss did not improve from 0.21340\n",
      "9/9 - 1s - loss: 0.0032 - categorical_accuracy: 1.0000 - val_loss: 0.2534 - val_categorical_accuracy: 0.9444 - 684ms/epoch - 76ms/step\n",
      "Epoch 49: early stopping\n"
     ]
    }
   ],
   "source": [
    "#DO NOT RUN IF DONT WANT TO TRAIN\n",
    "# Reference: https://www.tensorflow.org/guide/keras/train_and_evaluate\n",
    "print(f\"Fit model on training data for {epochs} epochs\")\n",
    "history_CNN = modelCNN.fit(\n",
    "    X_train, y_train, \n",
    "    #batch_size=64,\n",
    "    epochs=epochs,\n",
    "    # We pass some validation data for monitoring validation loss and metrics at the end of each epoch\n",
    "    validation_data=(X_test, y_test),\n",
    "    verbose=2,\n",
    "    batch_size=32,\n",
    "    callbacks=[tb_callback, model_checkpoint_callback, early_stopping]\n",
    ")\n",
    "\n",
    "#https://stats.stackexchange.com/questions/153531/what-is-batch-size-in-neural-network\n"
   ]
  },
  {
   "cell_type": "markdown",
   "id": "f4ea955a",
   "metadata": {},
   "source": [
    "# 6. Plot Training Results"
   ]
  },
  {
   "cell_type": "code",
   "execution_count": 15,
   "id": "db9637d0",
   "metadata": {},
   "outputs": [
    {
     "data": {
      "text/html": [
       "<div>\n",
       "<style scoped>\n",
       "    .dataframe tbody tr th:only-of-type {\n",
       "        vertical-align: middle;\n",
       "    }\n",
       "\n",
       "    .dataframe tbody tr th {\n",
       "        vertical-align: top;\n",
       "    }\n",
       "\n",
       "    .dataframe thead th {\n",
       "        text-align: right;\n",
       "    }\n",
       "</style>\n",
       "<table border=\"1\" class=\"dataframe\">\n",
       "  <thead>\n",
       "    <tr style=\"text-align: right;\">\n",
       "      <th></th>\n",
       "      <th>loss</th>\n",
       "      <th>categorical_accuracy</th>\n",
       "      <th>val_loss</th>\n",
       "      <th>val_categorical_accuracy</th>\n",
       "    </tr>\n",
       "  </thead>\n",
       "  <tbody>\n",
       "    <tr>\n",
       "      <th>0</th>\n",
       "      <td>2.068846</td>\n",
       "      <td>0.250000</td>\n",
       "      <td>1.705242</td>\n",
       "      <td>0.375000</td>\n",
       "    </tr>\n",
       "    <tr>\n",
       "      <th>1</th>\n",
       "      <td>1.594517</td>\n",
       "      <td>0.440972</td>\n",
       "      <td>1.461476</td>\n",
       "      <td>0.527778</td>\n",
       "    </tr>\n",
       "    <tr>\n",
       "      <th>2</th>\n",
       "      <td>1.281810</td>\n",
       "      <td>0.493056</td>\n",
       "      <td>1.101518</td>\n",
       "      <td>0.625000</td>\n",
       "    </tr>\n",
       "    <tr>\n",
       "      <th>3</th>\n",
       "      <td>0.999497</td>\n",
       "      <td>0.614583</td>\n",
       "      <td>0.943462</td>\n",
       "      <td>0.569444</td>\n",
       "    </tr>\n",
       "    <tr>\n",
       "      <th>4</th>\n",
       "      <td>0.757282</td>\n",
       "      <td>0.687500</td>\n",
       "      <td>0.814765</td>\n",
       "      <td>0.708333</td>\n",
       "    </tr>\n",
       "    <tr>\n",
       "      <th>5</th>\n",
       "      <td>0.697718</td>\n",
       "      <td>0.673611</td>\n",
       "      <td>0.852087</td>\n",
       "      <td>0.625000</td>\n",
       "    </tr>\n",
       "    <tr>\n",
       "      <th>6</th>\n",
       "      <td>0.583531</td>\n",
       "      <td>0.756944</td>\n",
       "      <td>0.695921</td>\n",
       "      <td>0.750000</td>\n",
       "    </tr>\n",
       "    <tr>\n",
       "      <th>7</th>\n",
       "      <td>0.552146</td>\n",
       "      <td>0.777778</td>\n",
       "      <td>0.728055</td>\n",
       "      <td>0.708333</td>\n",
       "    </tr>\n",
       "    <tr>\n",
       "      <th>8</th>\n",
       "      <td>0.464856</td>\n",
       "      <td>0.826389</td>\n",
       "      <td>0.535241</td>\n",
       "      <td>0.847222</td>\n",
       "    </tr>\n",
       "    <tr>\n",
       "      <th>9</th>\n",
       "      <td>0.371247</td>\n",
       "      <td>0.885417</td>\n",
       "      <td>0.500536</td>\n",
       "      <td>0.875000</td>\n",
       "    </tr>\n",
       "    <tr>\n",
       "      <th>10</th>\n",
       "      <td>0.321513</td>\n",
       "      <td>0.892361</td>\n",
       "      <td>0.448125</td>\n",
       "      <td>0.861111</td>\n",
       "    </tr>\n",
       "    <tr>\n",
       "      <th>11</th>\n",
       "      <td>0.290471</td>\n",
       "      <td>0.888889</td>\n",
       "      <td>0.433245</td>\n",
       "      <td>0.861111</td>\n",
       "    </tr>\n",
       "    <tr>\n",
       "      <th>12</th>\n",
       "      <td>0.249989</td>\n",
       "      <td>0.909722</td>\n",
       "      <td>0.601859</td>\n",
       "      <td>0.736111</td>\n",
       "    </tr>\n",
       "    <tr>\n",
       "      <th>13</th>\n",
       "      <td>0.203112</td>\n",
       "      <td>0.958333</td>\n",
       "      <td>0.431690</td>\n",
       "      <td>0.847222</td>\n",
       "    </tr>\n",
       "    <tr>\n",
       "      <th>14</th>\n",
       "      <td>0.149674</td>\n",
       "      <td>0.979167</td>\n",
       "      <td>0.421862</td>\n",
       "      <td>0.875000</td>\n",
       "    </tr>\n",
       "    <tr>\n",
       "      <th>15</th>\n",
       "      <td>0.121527</td>\n",
       "      <td>0.965278</td>\n",
       "      <td>0.323546</td>\n",
       "      <td>0.875000</td>\n",
       "    </tr>\n",
       "    <tr>\n",
       "      <th>16</th>\n",
       "      <td>0.131133</td>\n",
       "      <td>0.965278</td>\n",
       "      <td>0.333283</td>\n",
       "      <td>0.888889</td>\n",
       "    </tr>\n",
       "    <tr>\n",
       "      <th>17</th>\n",
       "      <td>0.104108</td>\n",
       "      <td>0.982639</td>\n",
       "      <td>0.483811</td>\n",
       "      <td>0.875000</td>\n",
       "    </tr>\n",
       "    <tr>\n",
       "      <th>18</th>\n",
       "      <td>0.091101</td>\n",
       "      <td>0.986111</td>\n",
       "      <td>0.363100</td>\n",
       "      <td>0.888889</td>\n",
       "    </tr>\n",
       "    <tr>\n",
       "      <th>19</th>\n",
       "      <td>0.065573</td>\n",
       "      <td>0.986111</td>\n",
       "      <td>0.360942</td>\n",
       "      <td>0.847222</td>\n",
       "    </tr>\n",
       "    <tr>\n",
       "      <th>20</th>\n",
       "      <td>0.070873</td>\n",
       "      <td>0.993056</td>\n",
       "      <td>0.321916</td>\n",
       "      <td>0.902778</td>\n",
       "    </tr>\n",
       "    <tr>\n",
       "      <th>21</th>\n",
       "      <td>0.074259</td>\n",
       "      <td>0.986111</td>\n",
       "      <td>0.276482</td>\n",
       "      <td>0.916667</td>\n",
       "    </tr>\n",
       "    <tr>\n",
       "      <th>22</th>\n",
       "      <td>0.048050</td>\n",
       "      <td>0.996528</td>\n",
       "      <td>0.316236</td>\n",
       "      <td>0.888889</td>\n",
       "    </tr>\n",
       "    <tr>\n",
       "      <th>23</th>\n",
       "      <td>0.031809</td>\n",
       "      <td>1.000000</td>\n",
       "      <td>0.272250</td>\n",
       "      <td>0.902778</td>\n",
       "    </tr>\n",
       "    <tr>\n",
       "      <th>24</th>\n",
       "      <td>0.024669</td>\n",
       "      <td>1.000000</td>\n",
       "      <td>0.241595</td>\n",
       "      <td>0.930556</td>\n",
       "    </tr>\n",
       "    <tr>\n",
       "      <th>25</th>\n",
       "      <td>0.023564</td>\n",
       "      <td>1.000000</td>\n",
       "      <td>0.260045</td>\n",
       "      <td>0.916667</td>\n",
       "    </tr>\n",
       "    <tr>\n",
       "      <th>26</th>\n",
       "      <td>0.022894</td>\n",
       "      <td>1.000000</td>\n",
       "      <td>0.269190</td>\n",
       "      <td>0.916667</td>\n",
       "    </tr>\n",
       "    <tr>\n",
       "      <th>27</th>\n",
       "      <td>0.019686</td>\n",
       "      <td>1.000000</td>\n",
       "      <td>0.272726</td>\n",
       "      <td>0.944444</td>\n",
       "    </tr>\n",
       "    <tr>\n",
       "      <th>28</th>\n",
       "      <td>0.020306</td>\n",
       "      <td>1.000000</td>\n",
       "      <td>0.213397</td>\n",
       "      <td>0.930556</td>\n",
       "    </tr>\n",
       "    <tr>\n",
       "      <th>29</th>\n",
       "      <td>0.018646</td>\n",
       "      <td>1.000000</td>\n",
       "      <td>0.294832</td>\n",
       "      <td>0.902778</td>\n",
       "    </tr>\n",
       "    <tr>\n",
       "      <th>30</th>\n",
       "      <td>0.015747</td>\n",
       "      <td>1.000000</td>\n",
       "      <td>0.235080</td>\n",
       "      <td>0.930556</td>\n",
       "    </tr>\n",
       "    <tr>\n",
       "      <th>31</th>\n",
       "      <td>0.012495</td>\n",
       "      <td>1.000000</td>\n",
       "      <td>0.252265</td>\n",
       "      <td>0.930556</td>\n",
       "    </tr>\n",
       "    <tr>\n",
       "      <th>32</th>\n",
       "      <td>0.011066</td>\n",
       "      <td>1.000000</td>\n",
       "      <td>0.260391</td>\n",
       "      <td>0.944444</td>\n",
       "    </tr>\n",
       "    <tr>\n",
       "      <th>33</th>\n",
       "      <td>0.010626</td>\n",
       "      <td>1.000000</td>\n",
       "      <td>0.273655</td>\n",
       "      <td>0.930556</td>\n",
       "    </tr>\n",
       "    <tr>\n",
       "      <th>34</th>\n",
       "      <td>0.009575</td>\n",
       "      <td>1.000000</td>\n",
       "      <td>0.239040</td>\n",
       "      <td>0.944444</td>\n",
       "    </tr>\n",
       "    <tr>\n",
       "      <th>35</th>\n",
       "      <td>0.008387</td>\n",
       "      <td>1.000000</td>\n",
       "      <td>0.249159</td>\n",
       "      <td>0.916667</td>\n",
       "    </tr>\n",
       "    <tr>\n",
       "      <th>36</th>\n",
       "      <td>0.011105</td>\n",
       "      <td>1.000000</td>\n",
       "      <td>0.242145</td>\n",
       "      <td>0.944444</td>\n",
       "    </tr>\n",
       "    <tr>\n",
       "      <th>37</th>\n",
       "      <td>0.008427</td>\n",
       "      <td>1.000000</td>\n",
       "      <td>0.301414</td>\n",
       "      <td>0.916667</td>\n",
       "    </tr>\n",
       "    <tr>\n",
       "      <th>38</th>\n",
       "      <td>0.010402</td>\n",
       "      <td>1.000000</td>\n",
       "      <td>0.240475</td>\n",
       "      <td>0.944444</td>\n",
       "    </tr>\n",
       "    <tr>\n",
       "      <th>39</th>\n",
       "      <td>0.006872</td>\n",
       "      <td>1.000000</td>\n",
       "      <td>0.250146</td>\n",
       "      <td>0.930556</td>\n",
       "    </tr>\n",
       "    <tr>\n",
       "      <th>40</th>\n",
       "      <td>0.005979</td>\n",
       "      <td>1.000000</td>\n",
       "      <td>0.253077</td>\n",
       "      <td>0.944444</td>\n",
       "    </tr>\n",
       "    <tr>\n",
       "      <th>41</th>\n",
       "      <td>0.005377</td>\n",
       "      <td>1.000000</td>\n",
       "      <td>0.234776</td>\n",
       "      <td>0.930556</td>\n",
       "    </tr>\n",
       "    <tr>\n",
       "      <th>42</th>\n",
       "      <td>0.004555</td>\n",
       "      <td>1.000000</td>\n",
       "      <td>0.258282</td>\n",
       "      <td>0.944444</td>\n",
       "    </tr>\n",
       "    <tr>\n",
       "      <th>43</th>\n",
       "      <td>0.005603</td>\n",
       "      <td>1.000000</td>\n",
       "      <td>0.223777</td>\n",
       "      <td>0.916667</td>\n",
       "    </tr>\n",
       "    <tr>\n",
       "      <th>44</th>\n",
       "      <td>0.006452</td>\n",
       "      <td>1.000000</td>\n",
       "      <td>0.269890</td>\n",
       "      <td>0.944444</td>\n",
       "    </tr>\n",
       "    <tr>\n",
       "      <th>45</th>\n",
       "      <td>0.004070</td>\n",
       "      <td>1.000000</td>\n",
       "      <td>0.244681</td>\n",
       "      <td>0.944444</td>\n",
       "    </tr>\n",
       "    <tr>\n",
       "      <th>46</th>\n",
       "      <td>0.003675</td>\n",
       "      <td>1.000000</td>\n",
       "      <td>0.258094</td>\n",
       "      <td>0.944444</td>\n",
       "    </tr>\n",
       "    <tr>\n",
       "      <th>47</th>\n",
       "      <td>0.003514</td>\n",
       "      <td>1.000000</td>\n",
       "      <td>0.250783</td>\n",
       "      <td>0.944444</td>\n",
       "    </tr>\n",
       "    <tr>\n",
       "      <th>48</th>\n",
       "      <td>0.003250</td>\n",
       "      <td>1.000000</td>\n",
       "      <td>0.253404</td>\n",
       "      <td>0.944444</td>\n",
       "    </tr>\n",
       "  </tbody>\n",
       "</table>\n",
       "</div>"
      ],
      "text/plain": [
       "        loss  categorical_accuracy  val_loss  val_categorical_accuracy\n",
       "0   2.068846              0.250000  1.705242                  0.375000\n",
       "1   1.594517              0.440972  1.461476                  0.527778\n",
       "2   1.281810              0.493056  1.101518                  0.625000\n",
       "3   0.999497              0.614583  0.943462                  0.569444\n",
       "4   0.757282              0.687500  0.814765                  0.708333\n",
       "5   0.697718              0.673611  0.852087                  0.625000\n",
       "6   0.583531              0.756944  0.695921                  0.750000\n",
       "7   0.552146              0.777778  0.728055                  0.708333\n",
       "8   0.464856              0.826389  0.535241                  0.847222\n",
       "9   0.371247              0.885417  0.500536                  0.875000\n",
       "10  0.321513              0.892361  0.448125                  0.861111\n",
       "11  0.290471              0.888889  0.433245                  0.861111\n",
       "12  0.249989              0.909722  0.601859                  0.736111\n",
       "13  0.203112              0.958333  0.431690                  0.847222\n",
       "14  0.149674              0.979167  0.421862                  0.875000\n",
       "15  0.121527              0.965278  0.323546                  0.875000\n",
       "16  0.131133              0.965278  0.333283                  0.888889\n",
       "17  0.104108              0.982639  0.483811                  0.875000\n",
       "18  0.091101              0.986111  0.363100                  0.888889\n",
       "19  0.065573              0.986111  0.360942                  0.847222\n",
       "20  0.070873              0.993056  0.321916                  0.902778\n",
       "21  0.074259              0.986111  0.276482                  0.916667\n",
       "22  0.048050              0.996528  0.316236                  0.888889\n",
       "23  0.031809              1.000000  0.272250                  0.902778\n",
       "24  0.024669              1.000000  0.241595                  0.930556\n",
       "25  0.023564              1.000000  0.260045                  0.916667\n",
       "26  0.022894              1.000000  0.269190                  0.916667\n",
       "27  0.019686              1.000000  0.272726                  0.944444\n",
       "28  0.020306              1.000000  0.213397                  0.930556\n",
       "29  0.018646              1.000000  0.294832                  0.902778\n",
       "30  0.015747              1.000000  0.235080                  0.930556\n",
       "31  0.012495              1.000000  0.252265                  0.930556\n",
       "32  0.011066              1.000000  0.260391                  0.944444\n",
       "33  0.010626              1.000000  0.273655                  0.930556\n",
       "34  0.009575              1.000000  0.239040                  0.944444\n",
       "35  0.008387              1.000000  0.249159                  0.916667\n",
       "36  0.011105              1.000000  0.242145                  0.944444\n",
       "37  0.008427              1.000000  0.301414                  0.916667\n",
       "38  0.010402              1.000000  0.240475                  0.944444\n",
       "39  0.006872              1.000000  0.250146                  0.930556\n",
       "40  0.005979              1.000000  0.253077                  0.944444\n",
       "41  0.005377              1.000000  0.234776                  0.930556\n",
       "42  0.004555              1.000000  0.258282                  0.944444\n",
       "43  0.005603              1.000000  0.223777                  0.916667\n",
       "44  0.006452              1.000000  0.269890                  0.944444\n",
       "45  0.004070              1.000000  0.244681                  0.944444\n",
       "46  0.003675              1.000000  0.258094                  0.944444\n",
       "47  0.003514              1.000000  0.250783                  0.944444\n",
       "48  0.003250              1.000000  0.253404                  0.944444"
      ]
     },
     "execution_count": 15,
     "metadata": {},
     "output_type": "execute_result"
    }
   ],
   "source": [
    "import pandas as pd\n",
    "# convert the history.history dict to a pandas DataFrame:     \n",
    "hist_df = pd.DataFrame(history_CNN.history) \n",
    "\n",
    "hist_df.to_csv(f'./Logs/{run}/history.csv',index = False)\n",
    "\n",
    "df_hist = pd.read_csv(f'./Logs/{run}/history.csv')\n",
    "hist_df"
   ]
  },
  {
   "cell_type": "code",
   "execution_count": 16,
   "id": "43c2741f",
   "metadata": {},
   "outputs": [
    {
     "name": "stdout",
     "output_type": "stream",
     "text": [
      "Index of Minimum Loss = 48\n",
      "Minimum Loss = 0.0\n"
     ]
    }
   ],
   "source": [
    "min_loss_epoch = hist_df[hist_df['loss']==min(hist_df['loss'])].index.values\n",
    "min_loss = min(hist_df['loss'])\n",
    "print('Index of Minimum Loss =',min_loss_epoch[0])\n",
    "print('Minimum Loss =',round(min_loss,2))"
   ]
  },
  {
   "cell_type": "code",
   "execution_count": 17,
   "id": "e724b703",
   "metadata": {},
   "outputs": [
    {
     "data": {
      "image/png": "[encoded data removed]",
      "text/plain": [
       "<Figure size 432x288 with 1 Axes>"
      ]
     },
     "metadata": {
      "needs_background": "light"
     },
     "output_type": "display_data"
    },
    {
     "data": {
      "image/png": "[encoded data removed]",
      "text/plain": [
       "<Figure size 432x288 with 1 Axes>"
      ]
     },
     "metadata": {
      "needs_background": "light"
     },
     "output_type": "display_data"
    }
   ],
   "source": [
    "# summarize history for accuracy\n",
    "plt.plot(history_CNN.history['categorical_accuracy'])\n",
    "plt.plot(history_CNN.history['val_categorical_accuracy'])\n",
    "plt.title('Model Training and Validation Categorical Accuracy CNN')\n",
    "plt.ylabel('categorical_accuracy')\n",
    "plt.xlabel('epoch')\n",
    "plt.legend(['train', 'validation'], loc='upper left')\n",
    "plt.savefig(f'{img_dir}/Model Training and Validation Categorical Accuracy CNN.jpg')\n",
    "plt.show()\n",
    "\n",
    "# summarize history for loss\n",
    "plt.plot(history_CNN.history['loss'])\n",
    "plt.plot(history_CNN.history['val_loss'])\n",
    "plt.title('Model Training and Validation Loss CNN')\n",
    "plt.ylabel('loss')\n",
    "plt.xlabel('epoch')\n",
    "plt.legend(['train', 'validation'], loc='upper left')\n",
    "plt.savefig(f'{img_dir}/Model Training and Validation Loss CNN.jpg')\n",
    "plt.show()"
   ]
  },
  {
   "cell_type": "markdown",
   "id": "0540877a",
   "metadata": {},
   "source": [
    "# 6. Load Best Model Weights/Checkpoint"
   ]
  },
  {
   "cell_type": "code",
   "execution_count": 19,
   "id": "80e578d0",
   "metadata": {},
   "outputs": [],
   "source": [
    "#PATH: \"C:\\Users\\yasmi\\Desktop\\data science\\Logs\\run_version2training\\model\\Epoch-72-Loss-0.15.h5\"\n",
    "\n",
    "modelCNN.load_weights(\"C:/Users/yasmi/Desktop/finalized ds project/Logs/run/model_CNN/Epoch-29-Loss-0.21.h5\")"
   ]
  },
  {
   "cell_type": "markdown",
   "id": "e6275ed2",
   "metadata": {},
   "source": [
    "# 7. Make Predictions on X_test"
   ]
  },
  {
   "cell_type": "code",
   "execution_count": 20,
   "id": "f590f0c0",
   "metadata": {},
   "outputs": [
    {
     "name": "stdout",
     "output_type": "stream",
     "text": [
      "3/3 [==============================] - 0s 26ms/step\n"
     ]
    },
    {
     "data": {
      "text/plain": [
       "5"
      ]
     },
     "execution_count": 20,
     "metadata": {},
     "output_type": "execute_result"
    }
   ],
   "source": [
    "res = modelCNN.predict(X_test)\n",
    "\n",
    "# Get y_predict and apply softmax function\n",
    "np.argmax(res[6])"
   ]
  },
  {
   "cell_type": "code",
   "execution_count": 21,
   "id": "4f596123",
   "metadata": {},
   "outputs": [
    {
     "data": {
      "text/plain": [
       "'noaction'"
      ]
     },
     "execution_count": 21,
     "metadata": {},
     "output_type": "execute_result"
    }
   ],
   "source": [
    "# Predicted Action\n",
    "actions[np.argmax(res[6])]"
   ]
  },
  {
   "cell_type": "code",
   "execution_count": 22,
   "id": "ba47e3c1",
   "metadata": {},
   "outputs": [
    {
     "data": {
      "text/plain": [
       "'noaction'"
      ]
     },
     "execution_count": 22,
     "metadata": {},
     "output_type": "execute_result"
    }
   ],
   "source": [
    "# Actual Action\n",
    "actions[np.argmax(y_test[6])]"
   ]
  },
  {
   "cell_type": "markdown",
   "id": "af712a97",
   "metadata": {},
   "source": [
    "# 8. Model Evaluation (Categorical Accuracy and Confusion Matrix)\n",
    "Running these cells converts the predicition from their one-hot encoded representation to a categorical label e.g. 0,1 or 2 as opoosed to [1,0,0], [0,1,0] or [0,0,1]."
   ]
  },
  {
   "cell_type": "code",
   "execution_count": 24,
   "id": "0775c7da",
   "metadata": {},
   "outputs": [
    {
     "data": {
      "text/plain": [
       "(72, 30, 258)"
      ]
     },
     "execution_count": 24,
     "metadata": {},
     "output_type": "execute_result"
    }
   ],
   "source": [
    "X_test.shape"
   ]
  },
  {
   "cell_type": "code",
   "execution_count": 25,
   "id": "03bfd66f",
   "metadata": {},
   "outputs": [
    {
     "data": {
      "text/plain": [
       "['no', 'please', 'thanks', 'welcome', 'yes', 'noaction']"
      ]
     },
     "execution_count": 25,
     "metadata": {},
     "output_type": "execute_result"
    }
   ],
   "source": [
    "label_list = ['no', 'please', 'thanks', 'welcome', 'yes', 'noaction']\n",
    "label_list"
   ]
  },
  {
   "cell_type": "code",
   "execution_count": 26,
   "id": "99f99c5d",
   "metadata": {},
   "outputs": [
    {
     "data": {
      "text/plain": [
       "['no', 'please', 'thanks', 'welcome', 'yes', 'noaction']"
      ]
     },
     "execution_count": 26,
     "metadata": {},
     "output_type": "execute_result"
    }
   ],
   "source": [
    "label_list = list(label_map.keys())\n",
    "label_list"
   ]
  },
  {
   "cell_type": "code",
   "execution_count": 27,
   "id": "c73a1049",
   "metadata": {},
   "outputs": [],
   "source": [
    "from sklearn.metrics import multilabel_confusion_matrix, accuracy_score, plot_confusion_matrix\n",
    "from sklearn.metrics import confusion_matrix, ConfusionMatrixDisplay\n",
    "import seaborn as sns\n",
    "\n",
    "def generate_confusion_matrix_accuracy(X,y,types):\n",
    "    predictions = modelCNN.predict(X)\n",
    "    y_true = np.argmax(y, axis=1)\n",
    "    y_pred = np.argmax(predictions, axis=1)\n",
    "    cm = confusion_matrix(y_true, y_pred)\n",
    "\n",
    "    print(f'{types} Overall Multiclassification Accuracy Score across all classes:',round(accuracy_score(y_true, y_pred),2))\n",
    "\n",
    "    sns.heatmap(cm, xticklabels = label_list, yticklabels = label_list, annot = True, linewidths = 0.1, fmt='d',cmap='Blues') # cmap = 'YlGnBu')\n",
    "    plt.title(f\"{types} Confusion matrix\", fontsize = 15)\n",
    "    plt.ylabel('True label')\n",
    "    plt.xlabel('Predicted label')\n",
    "    plt.show()"
   ]
  },
  {
   "cell_type": "code",
   "execution_count": 28,
   "id": "28ed084e",
   "metadata": {},
   "outputs": [
    {
     "name": "stdout",
     "output_type": "stream",
     "text": [
      "9/9 [==============================] - 0s 38ms/step\n",
      "Train Overall Multiclassification Accuracy Score across all classes: 1.0\n"
     ]
    },
    {
     "data": {
      "image/png": "[encoded data removed]",
      "text/plain": [
       "<Figure size 432x288 with 2 Axes>"
      ]
     },
     "metadata": {
      "needs_background": "light"
     },
     "output_type": "display_data"
    }
   ],
   "source": [
    "generate_confusion_matrix_accuracy(X_train,y_train,'Train')"
   ]
  },
  {
   "cell_type": "code",
   "execution_count": 29,
   "id": "38bed208",
   "metadata": {},
   "outputs": [
    {
     "name": "stdout",
     "output_type": "stream",
     "text": [
      "3/3 [==============================] - 0s 27ms/step\n",
      "Test Overall Multiclassification Accuracy Score across all classes: 0.93\n"
     ]
    },
    {
     "data": {
      "image/png": "[encoded data removed]",
      "text/plain": [
       "<Figure size 432x288 with 2 Axes>"
      ]
     },
     "metadata": {
      "needs_background": "light"
     },
     "output_type": "display_data"
    }
   ],
   "source": [
    "generate_confusion_matrix_accuracy(X_test,y_test,'Test')"
   ]
  },
  {
   "cell_type": "code",
   "execution_count": 31,
   "id": "a53ef231",
   "metadata": {},
   "outputs": [
    {
     "name": "stdout",
     "output_type": "stream",
     "text": [
      "3/3 [==============================] - 0s 24ms/step\n",
      "Precision:  [0.84615385 1.         0.91666667 0.92307692 1.         1.        ]\n",
      "Recall:  [0.91666667 0.91666667 0.91666667 1.         0.83333333 1.        ]\n",
      "F1-Score:  [0.88       0.95652174 0.91666667 0.96       0.90909091 1.        ]\n",
      "Accuracy:  0.9305555555555556\n"
     ]
    }
   ],
   "source": [
    "from sklearn.metrics import precision_recall_fscore_support, accuracy_score\n",
    "\n",
    "# predict on test data\n",
    "y_pred = modelCNN.predict(X_test)\n",
    "\n",
    "# convert predictions to binary labels\n",
    "y_pred = (y_pred > 0.5)\n",
    "\n",
    "# calculate precision, recall, f1-score, and accuracy\n",
    "precision, recall, f1_score, _ = precision_recall_fscore_support(y_test, y_pred)\n",
    "accuracy = accuracy_score(y_test, y_pred)\n",
    "\n",
    "print(\"Precision: \", precision)\n",
    "print(\"Recall: \", recall)\n",
    "print(\"F1-Score: \", f1_score)\n",
    "print(\"Accuracy: \", accuracy)\n"
   ]
  }
 ],
 "metadata": {
  "kernelspec": {
   "display_name": "Python 3 (ipykernel)",
   "language": "python",
   "name": "python3"
  },
  "language_info": {
   "codemirror_mode": {
    "name": "ipython",
    "version": 3
   },
   "file_extension": ".py",
   "mimetype": "text/x-python",
   "name": "python",
   "nbconvert_exporter": "python",
   "pygments_lexer": "ipython3",
   "version": "3.9.12"
  }
 },
 "nbformat": 4,
 "nbformat_minor": 5
}
