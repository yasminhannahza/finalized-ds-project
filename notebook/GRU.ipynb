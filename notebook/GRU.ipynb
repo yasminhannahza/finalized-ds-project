{
 "cells": [
  {
   "cell_type": "markdown",
   "id": "4f228295",
   "metadata": {},
   "source": [
    "# 1. Preprocess Data and Create Labels and Features"
   ]
  },
  {
   "cell_type": "code",
   "execution_count": 1,
   "id": "d54d8f6f",
   "metadata": {},
   "outputs": [],
   "source": [
    "import cv2\n",
    "import numpy as np\n",
    "import os\n",
    "from matplotlib import pyplot as plt\n",
    "import time\n",
    "import mediapipe as mp\n",
    "from tensorflow.keras.models import Sequential\n",
    "from tensorflow.keras.layers import LSTM, Dense, Dropout\n",
    "from tensorflow.keras.callbacks import TensorBoard\n",
    "from tensorflow.keras.utils import plot_model\n",
    "\n",
    "from sklearn.model_selection import train_test_split\n",
    "from tensorflow.keras.utils import to_categorical\n",
    "\n",
    "import tensorflow as tf\n",
    "import pandas as pd\n",
    "\n",
    "from tensorflow.keras.callbacks import EarlyStopping"
   ]
  },
  {
   "cell_type": "code",
   "execution_count": 2,
   "id": "e45bb8bb",
   "metadata": {},
   "outputs": [
    {
     "name": "stdout",
     "output_type": "stream",
     "text": [
      "{'no': 0, 'please': 1, 'thanks': 2, 'welcome': 3, 'yes': 4, 'noaction': 5}\n",
      "X Shape: (360, 30, 258)\n",
      "y Shape: (360, 6)\n",
      "X_train Shape: (288, 30, 258)\n",
      "y_train Shape: (288, 6)\n",
      "X_test Shape: (72, 30, 258)\n",
      "y_test Shape: (72, 6)\n"
     ]
    }
   ],
   "source": [
    "#Define Path to training data of numpy arrays\n",
    "#DATA_PATH = os.path.join('MP_Data_bp_hp')\n",
    "#DATA_PATH = os.path.join('MP_Data-6classes') # including facemesh\n",
    "\n",
    "DATA_PATH = os.path.join('MP_Data') # including facemesh\n",
    "\n",
    "# Define Model Run\n",
    "run = 'run'\n",
    "\n",
    "#Define directory to save training graphs and confusion matrices\n",
    "img_dir = f'Logs/{run}/images'\n",
    "\n",
    "# create directory if image directory does not exist\n",
    "if not os.path.exists(img_dir):\n",
    "    os.makedirs(img_dir)    \n",
    "\n",
    "# Define actions that we try to detect\n",
    "actions = np.array(['no', 'please', 'thanks', 'welcome', 'yes', 'noaction'])\n",
    "\n",
    "# Sixty videos worth of data for each action\n",
    "no_sequences = 60\n",
    "# Videos are going to be 30 frames in length (30 frames of data for each action)\n",
    "sequence_length = 30\n",
    "\n",
    "#create label map dictionary\n",
    "label_map = {label:num for num, label in enumerate(actions)} \n",
    "print(label_map)\n",
    "\n",
    "#sequences represent x data, labels represent y data/the action classes.\n",
    "sequences, labels = [], []\n",
    "#Loop through the action classes you want to detect\n",
    "for action in actions:\n",
    "    #loop through each sequence\n",
    "    for sequence in np.array(os.listdir(os.path.join(DATA_PATH, action))).astype(int):\n",
    "        window = []\n",
    "        for frame_num in range(sequence_length):\n",
    "            res = np.load(os.path.join(DATA_PATH, action, str(sequence), \"{}.npy\".format(frame_num)))\n",
    "            window.append(res)\n",
    "        sequences.append(window)\n",
    "        labels.append(label_map[action])\n",
    "\n",
    "# X = Training Data that contains spatial coordinates x,y,z of landmarks\n",
    "X = np.array(sequences)\n",
    "\n",
    "# y = categorical labels\n",
    "y = to_categorical(labels).astype(int) #one-hot-encoding to catergorical variable\n",
    "\n",
    "print('X Shape:',X.shape)\n",
    "print('y Shape:',y.shape)\n",
    "\n",
    "# train test split (80% train,20% test)\n",
    "X_train, X_test, y_train, y_test = train_test_split(X, y, test_size=0.20,stratify=y)\n",
    "\n",
    "print('X_train Shape:',X_train.shape)\n",
    "print('y_train Shape:',y_train.shape)\n",
    "print('X_test Shape:',X_test.shape)\n",
    "print('y_test Shape:',y_test.shape)\n",
    "\n",
    "# split imbalanced dataset into train and test sets with stratification\n",
    "test_count_label = tf.reduce_sum(y_test, axis=0)\n",
    "train_count_label = tf.reduce_sum(y_train, axis=0)"
   ]
  },
  {
   "cell_type": "code",
   "execution_count": 3,
   "id": "948fd40d",
   "metadata": {},
   "outputs": [
    {
     "data": {
      "text/plain": [
       "['no', 'please', 'thanks', 'welcome', 'yes', 'noaction']"
      ]
     },
     "execution_count": 3,
     "metadata": {},
     "output_type": "execute_result"
    }
   ],
   "source": [
    "# Show categorical list\n",
    "actions.tolist()"
   ]
  },
  {
   "cell_type": "code",
   "execution_count": 4,
   "id": "2acb89eb",
   "metadata": {},
   "outputs": [
    {
     "data": {
      "text/html": [
       "<div>\n",
       "<style scoped>\n",
       "    .dataframe tbody tr th:only-of-type {\n",
       "        vertical-align: middle;\n",
       "    }\n",
       "\n",
       "    .dataframe tbody tr th {\n",
       "        vertical-align: top;\n",
       "    }\n",
       "\n",
       "    .dataframe thead th {\n",
       "        text-align: right;\n",
       "    }\n",
       "</style>\n",
       "<table border=\"1\" class=\"dataframe\">\n",
       "  <thead>\n",
       "    <tr style=\"text-align: right;\">\n",
       "      <th></th>\n",
       "      <th>class_names</th>\n",
       "      <th>train_count</th>\n",
       "      <th>test_count</th>\n",
       "    </tr>\n",
       "  </thead>\n",
       "  <tbody>\n",
       "    <tr>\n",
       "      <th>0</th>\n",
       "      <td>no</td>\n",
       "      <td>48</td>\n",
       "      <td>12</td>\n",
       "    </tr>\n",
       "    <tr>\n",
       "      <th>1</th>\n",
       "      <td>please</td>\n",
       "      <td>48</td>\n",
       "      <td>12</td>\n",
       "    </tr>\n",
       "    <tr>\n",
       "      <th>2</th>\n",
       "      <td>thanks</td>\n",
       "      <td>48</td>\n",
       "      <td>12</td>\n",
       "    </tr>\n",
       "    <tr>\n",
       "      <th>3</th>\n",
       "      <td>welcome</td>\n",
       "      <td>48</td>\n",
       "      <td>12</td>\n",
       "    </tr>\n",
       "    <tr>\n",
       "      <th>4</th>\n",
       "      <td>yes</td>\n",
       "      <td>48</td>\n",
       "      <td>12</td>\n",
       "    </tr>\n",
       "    <tr>\n",
       "      <th>5</th>\n",
       "      <td>noaction</td>\n",
       "      <td>48</td>\n",
       "      <td>12</td>\n",
       "    </tr>\n",
       "  </tbody>\n",
       "</table>\n",
       "</div>"
      ],
      "text/plain": [
       "  class_names  train_count  test_count\n",
       "0          no           48          12\n",
       "1      please           48          12\n",
       "2      thanks           48          12\n",
       "3     welcome           48          12\n",
       "4         yes           48          12\n",
       "5    noaction           48          12"
      ]
     },
     "execution_count": 4,
     "metadata": {},
     "output_type": "execute_result"
    }
   ],
   "source": [
    "left = pd.DataFrame(train_count_label,columns=['train_count'])\n",
    "right = pd.DataFrame(test_count_label,columns=['test_count'])\n",
    "df = left.join(right)\n",
    "\n",
    "actions_list = actions.tolist()\n",
    "\n",
    "left = pd.DataFrame(actions_list,columns=['class_names'])\n",
    "df = left.join(df)\n",
    "df"
   ]
  },
  {
   "cell_type": "code",
   "execution_count": 5,
   "id": "2f06b21d",
   "metadata": {},
   "outputs": [
    {
     "data": {
      "text/html": [
       "<div>\n",
       "<style scoped>\n",
       "    .dataframe tbody tr th:only-of-type {\n",
       "        vertical-align: middle;\n",
       "    }\n",
       "\n",
       "    .dataframe tbody tr th {\n",
       "        vertical-align: top;\n",
       "    }\n",
       "\n",
       "    .dataframe thead th {\n",
       "        text-align: right;\n",
       "    }\n",
       "</style>\n",
       "<table border=\"1\" class=\"dataframe\">\n",
       "  <thead>\n",
       "    <tr style=\"text-align: right;\">\n",
       "      <th></th>\n",
       "      <th>class_names</th>\n",
       "      <th>train_count</th>\n",
       "      <th>test_count</th>\n",
       "    </tr>\n",
       "  </thead>\n",
       "  <tbody>\n",
       "    <tr>\n",
       "      <th>0</th>\n",
       "      <td>no</td>\n",
       "      <td>48</td>\n",
       "      <td>12</td>\n",
       "    </tr>\n",
       "    <tr>\n",
       "      <th>1</th>\n",
       "      <td>please</td>\n",
       "      <td>48</td>\n",
       "      <td>12</td>\n",
       "    </tr>\n",
       "    <tr>\n",
       "      <th>2</th>\n",
       "      <td>thanks</td>\n",
       "      <td>48</td>\n",
       "      <td>12</td>\n",
       "    </tr>\n",
       "    <tr>\n",
       "      <th>3</th>\n",
       "      <td>welcome</td>\n",
       "      <td>48</td>\n",
       "      <td>12</td>\n",
       "    </tr>\n",
       "    <tr>\n",
       "      <th>4</th>\n",
       "      <td>yes</td>\n",
       "      <td>48</td>\n",
       "      <td>12</td>\n",
       "    </tr>\n",
       "    <tr>\n",
       "      <th>5</th>\n",
       "      <td>noaction</td>\n",
       "      <td>48</td>\n",
       "      <td>12</td>\n",
       "    </tr>\n",
       "  </tbody>\n",
       "</table>\n",
       "</div>"
      ],
      "text/plain": [
       "  class_names  train_count  test_count\n",
       "0          no           48          12\n",
       "1      please           48          12\n",
       "2      thanks           48          12\n",
       "3     welcome           48          12\n",
       "4         yes           48          12\n",
       "5    noaction           48          12"
      ]
     },
     "execution_count": 5,
     "metadata": {},
     "output_type": "execute_result"
    }
   ],
   "source": [
    "left = pd.DataFrame(train_count_label,columns=['train_count'])\n",
    "right = pd.DataFrame(test_count_label,columns=['test_count'])\n",
    "df = left.join(right)\n",
    "\n",
    "actions_list = actions.tolist()\n",
    "\n",
    "left = pd.DataFrame(actions_list,columns=['class_names'])\n",
    "df = left.join(df)\n",
    "df"
   ]
  },
  {
   "cell_type": "code",
   "execution_count": 6,
   "id": "6fb64bfd",
   "metadata": {},
   "outputs": [
    {
     "data": {
      "image/png": "[encoded data removed]",
      "text/plain": [
       "<Figure size 432x288 with 1 Axes>"
      ]
     },
     "metadata": {
      "needs_background": "light"
     },
     "output_type": "display_data"
    }
   ],
   "source": [
    "# Plot Distribution of Train & Test Data after train_test_split\n",
    "ax = df.plot.bar(x='class_names',rot=0)\n",
    "ax.set_title('Distribution of Train & Test Data after train_test_split')\n",
    "ax.figure.savefig('Logs/run/images/train_test_distribution.jpg')"
   ]
  },
  {
   "cell_type": "markdown",
   "id": "8f842a2c",
   "metadata": {},
   "source": [
    "# 2. GRU Model"
   ]
  },
  {
   "cell_type": "code",
   "execution_count": 7,
   "id": "250e01f9",
   "metadata": {},
   "outputs": [],
   "source": [
    "#Set up log directory to monitor training accuracy while training\n",
    "log_dir = os.path.join('Logs/{}'.format(run))\n",
    "tb_callback = TensorBoard(log_dir=log_dir)\n",
    "\n",
    "model_dir = 'Logs/{}/model_GRU'.format(run)\n",
    "if not os.path.exists(model_dir):\n",
    "    os.makedirs(model_dir)"
   ]
  },
  {
   "cell_type": "code",
   "execution_count": 8,
   "id": "42129ff5",
   "metadata": {},
   "outputs": [],
   "source": [
    "from keras.models import Sequential\n",
    "from keras.layers import GRU, Dense, Dropout\n",
    "from keras.optimizers import Adam\n",
    "\n",
    "# define the model\n",
    "modelGRU = Sequential()\n",
    "modelGRU.add(GRU(64, return_sequences=True, input_shape=(30, 258)))\n",
    "modelGRU.add(Dropout(0.2))\n",
    "modelGRU.add(GRU(128, return_sequences=True))\n",
    "modelGRU.add(Dropout(0.2))\n",
    "modelGRU.add(GRU(64, return_sequences=False))\n",
    "modelGRU.add(Dense(64, activation='relu'))\n",
    "#modelGRU.add(Dense(32, activation='relu'))\n",
    "modelGRU.add(Dense(actions.shape[0], activation='softmax'))"
   ]
  },
  {
   "cell_type": "code",
   "execution_count": 9,
   "id": "19936d1c",
   "metadata": {},
   "outputs": [
    {
     "name": "stdout",
     "output_type": "stream",
     "text": [
      "Model: \"sequential\"\n",
      "_________________________________________________________________\n",
      " Layer (type)                Output Shape              Param #   \n",
      "=================================================================\n",
      " gru (GRU)                   (None, 30, 64)            62208     \n",
      "                                                                 \n",
      " dropout (Dropout)           (None, 30, 64)            0         \n",
      "                                                                 \n",
      " gru_1 (GRU)                 (None, 30, 128)           74496     \n",
      "                                                                 \n",
      " dropout_1 (Dropout)         (None, 30, 128)           0         \n",
      "                                                                 \n",
      " gru_2 (GRU)                 (None, 64)                37248     \n",
      "                                                                 \n",
      " dense (Dense)               (None, 64)                4160      \n",
      "                                                                 \n",
      " dense_1 (Dense)             (None, 6)                 390       \n",
      "                                                                 \n",
      "=================================================================\n",
      "Total params: 178,502\n",
      "Trainable params: 178,502\n",
      "Non-trainable params: 0\n",
      "_________________________________________________________________\n"
     ]
    }
   ],
   "source": [
    "modelGRU.summary()"
   ]
  },
  {
   "cell_type": "code",
   "execution_count": 10,
   "id": "1e2cc8be",
   "metadata": {},
   "outputs": [],
   "source": [
    "#Compile defines the loss function, the optimizer and the metrics. \n",
    "modelGRU.compile(optimizer='Adam', loss='categorical_crossentropy', metrics=['categorical_accuracy'])"
   ]
  },
  {
   "cell_type": "code",
   "execution_count": 11,
   "id": "0697e677",
   "metadata": {},
   "outputs": [],
   "source": [
    "epochs = 100\n",
    "#checkpoint_dir = f\"Logs/{run}/tmp/checkpoint\"\n",
    "model_filename = \"Epoch-{epoch:02d}-Loss-{val_loss:.2f}.h5\"\n",
    "checkpoint_filepath = os.path.join('model_GRU/',model_filename)\n",
    "\n",
    "model_checkpoint_callback = tf.keras.callbacks.ModelCheckpoint(\n",
    "    filepath=f'Logs/{run}/'+checkpoint_filepath,\n",
    "    monitor='val_loss', #get the minimum validation loss\n",
    "    mode='min',\n",
    "    save_weights_only=True,\n",
    "    save_best_only=True,\n",
    "    verbose=2)\n",
    "\n",
    "# Reference: https://towardsdatascience.com/a-practical-introduction-to-early-stopping-in-machine-learning-550ac88bc8fd\n",
    "early_stopping =EarlyStopping(monitor='val_loss', patience=20,mode='auto',verbose=2)"
   ]
  },
  {
   "cell_type": "code",
   "execution_count": 12,
   "id": "291e1907",
   "metadata": {},
   "outputs": [
    {
     "name": "stdout",
     "output_type": "stream",
     "text": [
      "Fit model on training data for 100 epochs\n",
      "Epoch 1/100\n",
      "\n",
      "Epoch 1: val_loss improved from inf to 1.46823, saving model to Logs/run/model_GRU\\Epoch-01-Loss-1.47.h5\n",
      "9/9 - 7s - loss: 1.7061 - categorical_accuracy: 0.2986 - val_loss: 1.4682 - val_categorical_accuracy: 0.5139 - 7s/epoch - 754ms/step\n",
      "Epoch 2/100\n",
      "\n",
      "Epoch 2: val_loss improved from 1.46823 to 1.17522, saving model to Logs/run/model_GRU\\Epoch-02-Loss-1.18.h5\n",
      "9/9 - 0s - loss: 1.3802 - categorical_accuracy: 0.4410 - val_loss: 1.1752 - val_categorical_accuracy: 0.4306 - 325ms/epoch - 36ms/step\n",
      "Epoch 3/100\n",
      "\n",
      "Epoch 3: val_loss improved from 1.17522 to 0.96511, saving model to Logs/run/model_GRU\\Epoch-03-Loss-0.97.h5\n",
      "9/9 - 0s - loss: 1.1420 - categorical_accuracy: 0.5104 - val_loss: 0.9651 - val_categorical_accuracy: 0.5417 - 324ms/epoch - 36ms/step\n",
      "Epoch 4/100\n",
      "\n",
      "Epoch 4: val_loss improved from 0.96511 to 0.83761, saving model to Logs/run/model_GRU\\Epoch-04-Loss-0.84.h5\n",
      "9/9 - 0s - loss: 0.9662 - categorical_accuracy: 0.5660 - val_loss: 0.8376 - val_categorical_accuracy: 0.6667 - 313ms/epoch - 35ms/step\n",
      "Epoch 5/100\n",
      "\n",
      "Epoch 5: val_loss improved from 0.83761 to 0.76474, saving model to Logs/run/model_GRU\\Epoch-05-Loss-0.76.h5\n",
      "9/9 - 0s - loss: 0.8487 - categorical_accuracy: 0.6285 - val_loss: 0.7647 - val_categorical_accuracy: 0.7361 - 316ms/epoch - 35ms/step\n",
      "Epoch 6/100\n",
      "\n",
      "Epoch 6: val_loss improved from 0.76474 to 0.76159, saving model to Logs/run/model_GRU\\Epoch-06-Loss-0.76.h5\n",
      "9/9 - 0s - loss: 0.7301 - categorical_accuracy: 0.6736 - val_loss: 0.7616 - val_categorical_accuracy: 0.6389 - 332ms/epoch - 37ms/step\n",
      "Epoch 7/100\n",
      "\n",
      "Epoch 7: val_loss improved from 0.76159 to 0.66572, saving model to Logs/run/model_GRU\\Epoch-07-Loss-0.67.h5\n",
      "9/9 - 0s - loss: 0.7098 - categorical_accuracy: 0.6632 - val_loss: 0.6657 - val_categorical_accuracy: 0.6806 - 319ms/epoch - 35ms/step\n",
      "Epoch 8/100\n",
      "\n",
      "Epoch 8: val_loss improved from 0.66572 to 0.66371, saving model to Logs/run/model_GRU\\Epoch-08-Loss-0.66.h5\n",
      "9/9 - 0s - loss: 0.7535 - categorical_accuracy: 0.6389 - val_loss: 0.6637 - val_categorical_accuracy: 0.6528 - 341ms/epoch - 38ms/step\n",
      "Epoch 9/100\n",
      "\n",
      "Epoch 9: val_loss improved from 0.66371 to 0.60726, saving model to Logs/run/model_GRU\\Epoch-09-Loss-0.61.h5\n",
      "9/9 - 0s - loss: 0.6006 - categorical_accuracy: 0.7326 - val_loss: 0.6073 - val_categorical_accuracy: 0.7222 - 347ms/epoch - 39ms/step\n",
      "Epoch 10/100\n",
      "\n",
      "Epoch 10: val_loss improved from 0.60726 to 0.51550, saving model to Logs/run/model_GRU\\Epoch-10-Loss-0.52.h5\n",
      "9/9 - 0s - loss: 0.5310 - categorical_accuracy: 0.7917 - val_loss: 0.5155 - val_categorical_accuracy: 0.7917 - 322ms/epoch - 36ms/step\n",
      "Epoch 11/100\n",
      "\n",
      "Epoch 11: val_loss improved from 0.51550 to 0.50467, saving model to Logs/run/model_GRU\\Epoch-11-Loss-0.50.h5\n",
      "9/9 - 0s - loss: 0.4667 - categorical_accuracy: 0.8021 - val_loss: 0.5047 - val_categorical_accuracy: 0.7778 - 429ms/epoch - 48ms/step\n",
      "Epoch 12/100\n",
      "\n",
      "Epoch 12: val_loss did not improve from 0.50467\n",
      "9/9 - 0s - loss: 0.4357 - categorical_accuracy: 0.8368 - val_loss: 0.5058 - val_categorical_accuracy: 0.7222 - 325ms/epoch - 36ms/step\n",
      "Epoch 13/100\n",
      "\n",
      "Epoch 13: val_loss improved from 0.50467 to 0.40056, saving model to Logs/run/model_GRU\\Epoch-13-Loss-0.40.h5\n",
      "9/9 - 0s - loss: 0.4398 - categorical_accuracy: 0.8125 - val_loss: 0.4006 - val_categorical_accuracy: 0.8472 - 337ms/epoch - 37ms/step\n",
      "Epoch 14/100\n",
      "\n",
      "Epoch 14: val_loss did not improve from 0.40056\n",
      "9/9 - 0s - loss: 0.3977 - categorical_accuracy: 0.8403 - val_loss: 0.6439 - val_categorical_accuracy: 0.7778 - 334ms/epoch - 37ms/step\n",
      "Epoch 15/100\n",
      "\n",
      "Epoch 15: val_loss improved from 0.40056 to 0.33400, saving model to Logs/run/model_GRU\\Epoch-15-Loss-0.33.h5\n",
      "9/9 - 0s - loss: 0.5613 - categorical_accuracy: 0.7465 - val_loss: 0.3340 - val_categorical_accuracy: 0.8750 - 340ms/epoch - 38ms/step\n",
      "Epoch 16/100\n",
      "\n",
      "Epoch 16: val_loss did not improve from 0.33400\n",
      "9/9 - 0s - loss: 0.3592 - categorical_accuracy: 0.8681 - val_loss: 0.3664 - val_categorical_accuracy: 0.8611 - 322ms/epoch - 36ms/step\n",
      "Epoch 17/100\n",
      "\n",
      "Epoch 17: val_loss improved from 0.33400 to 0.33023, saving model to Logs/run/model_GRU\\Epoch-17-Loss-0.33.h5\n",
      "9/9 - 0s - loss: 0.3246 - categorical_accuracy: 0.8646 - val_loss: 0.3302 - val_categorical_accuracy: 0.9167 - 331ms/epoch - 37ms/step\n",
      "Epoch 18/100\n",
      "\n",
      "Epoch 18: val_loss improved from 0.33023 to 0.26016, saving model to Logs/run/model_GRU\\Epoch-18-Loss-0.26.h5\n",
      "9/9 - 0s - loss: 0.2348 - categorical_accuracy: 0.9271 - val_loss: 0.2602 - val_categorical_accuracy: 0.9444 - 326ms/epoch - 36ms/step\n",
      "Epoch 19/100\n",
      "\n",
      "Epoch 19: val_loss did not improve from 0.26016\n",
      "9/9 - 0s - loss: 0.2133 - categorical_accuracy: 0.9271 - val_loss: 0.2642 - val_categorical_accuracy: 0.9028 - 308ms/epoch - 34ms/step\n",
      "Epoch 20/100\n",
      "\n",
      "Epoch 20: val_loss improved from 0.26016 to 0.21847, saving model to Logs/run/model_GRU\\Epoch-20-Loss-0.22.h5\n",
      "9/9 - 0s - loss: 0.1916 - categorical_accuracy: 0.9340 - val_loss: 0.2185 - val_categorical_accuracy: 0.9583 - 338ms/epoch - 38ms/step\n",
      "Epoch 21/100\n",
      "\n",
      "Epoch 21: val_loss did not improve from 0.21847\n",
      "9/9 - 0s - loss: 0.1668 - categorical_accuracy: 0.9375 - val_loss: 0.2269 - val_categorical_accuracy: 0.9167 - 307ms/epoch - 34ms/step\n",
      "Epoch 22/100\n",
      "\n",
      "Epoch 22: val_loss did not improve from 0.21847\n",
      "9/9 - 0s - loss: 0.1772 - categorical_accuracy: 0.9410 - val_loss: 0.2989 - val_categorical_accuracy: 0.9028 - 321ms/epoch - 36ms/step\n",
      "Epoch 23/100\n",
      "\n",
      "Epoch 23: val_loss improved from 0.21847 to 0.18482, saving model to Logs/run/model_GRU\\Epoch-23-Loss-0.18.h5\n",
      "9/9 - 0s - loss: 0.1832 - categorical_accuracy: 0.9167 - val_loss: 0.1848 - val_categorical_accuracy: 0.9722 - 338ms/epoch - 38ms/step\n",
      "Epoch 24/100\n",
      "\n",
      "Epoch 24: val_loss did not improve from 0.18482\n",
      "9/9 - 0s - loss: 0.1998 - categorical_accuracy: 0.9236 - val_loss: 0.2539 - val_categorical_accuracy: 0.8889 - 300ms/epoch - 33ms/step\n",
      "Epoch 25/100\n",
      "\n",
      "Epoch 25: val_loss did not improve from 0.18482\n",
      "9/9 - 0s - loss: 0.3005 - categorical_accuracy: 0.8750 - val_loss: 0.4429 - val_categorical_accuracy: 0.8194 - 304ms/epoch - 34ms/step\n",
      "Epoch 26/100\n",
      "\n",
      "Epoch 26: val_loss did not improve from 0.18482\n",
      "9/9 - 0s - loss: 0.2032 - categorical_accuracy: 0.9271 - val_loss: 0.3117 - val_categorical_accuracy: 0.9028 - 319ms/epoch - 35ms/step\n",
      "Epoch 27/100\n",
      "\n",
      "Epoch 27: val_loss did not improve from 0.18482\n",
      "9/9 - 0s - loss: 0.1696 - categorical_accuracy: 0.9306 - val_loss: 0.3406 - val_categorical_accuracy: 0.9028 - 321ms/epoch - 36ms/step\n",
      "Epoch 28/100\n",
      "\n",
      "Epoch 28: val_loss did not improve from 0.18482\n",
      "9/9 - 0s - loss: 0.1219 - categorical_accuracy: 0.9549 - val_loss: 0.1979 - val_categorical_accuracy: 0.9722 - 322ms/epoch - 36ms/step\n",
      "Epoch 29/100\n",
      "\n",
      "Epoch 29: val_loss did not improve from 0.18482\n",
      "9/9 - 0s - loss: 0.0811 - categorical_accuracy: 0.9792 - val_loss: 0.2134 - val_categorical_accuracy: 0.9444 - 324ms/epoch - 36ms/step\n",
      "Epoch 30/100\n",
      "\n",
      "Epoch 30: val_loss did not improve from 0.18482\n",
      "9/9 - 0s - loss: 0.0678 - categorical_accuracy: 0.9826 - val_loss: 0.2032 - val_categorical_accuracy: 0.9722 - 315ms/epoch - 35ms/step\n",
      "Epoch 31/100\n",
      "\n",
      "Epoch 31: val_loss did not improve from 0.18482\n",
      "9/9 - 0s - loss: 0.0430 - categorical_accuracy: 0.9931 - val_loss: 0.1881 - val_categorical_accuracy: 0.9583 - 343ms/epoch - 38ms/step\n",
      "Epoch 32/100\n",
      "\n",
      "Epoch 32: val_loss improved from 0.18482 to 0.17548, saving model to Logs/run/model_GRU\\Epoch-32-Loss-0.18.h5\n",
      "9/9 - 0s - loss: 0.0468 - categorical_accuracy: 0.9861 - val_loss: 0.1755 - val_categorical_accuracy: 0.9444 - 411ms/epoch - 46ms/step\n",
      "Epoch 33/100\n",
      "\n",
      "Epoch 33: val_loss improved from 0.17548 to 0.17537, saving model to Logs/run/model_GRU\\Epoch-33-Loss-0.18.h5\n",
      "9/9 - 0s - loss: 0.0417 - categorical_accuracy: 0.9896 - val_loss: 0.1754 - val_categorical_accuracy: 0.9583 - 479ms/epoch - 53ms/step\n",
      "Epoch 34/100\n",
      "\n",
      "Epoch 34: val_loss improved from 0.17537 to 0.13183, saving model to Logs/run/model_GRU\\Epoch-34-Loss-0.13.h5\n",
      "9/9 - 0s - loss: 0.0576 - categorical_accuracy: 0.9792 - val_loss: 0.1318 - val_categorical_accuracy: 0.9583 - 488ms/epoch - 54ms/step\n",
      "Epoch 35/100\n",
      "\n",
      "Epoch 35: val_loss did not improve from 0.13183\n",
      "9/9 - 0s - loss: 0.0469 - categorical_accuracy: 0.9826 - val_loss: 0.2747 - val_categorical_accuracy: 0.9028 - 467ms/epoch - 52ms/step\n",
      "Epoch 36/100\n",
      "\n",
      "Epoch 36: val_loss did not improve from 0.13183\n"
     ]
    },
    {
     "name": "stdout",
     "output_type": "stream",
     "text": [
      "9/9 - 0s - loss: 0.0931 - categorical_accuracy: 0.9722 - val_loss: 0.1835 - val_categorical_accuracy: 0.9583 - 447ms/epoch - 50ms/step\n",
      "Epoch 37/100\n",
      "\n",
      "Epoch 37: val_loss did not improve from 0.13183\n",
      "9/9 - 0s - loss: 0.0758 - categorical_accuracy: 0.9757 - val_loss: 0.1848 - val_categorical_accuracy: 0.9444 - 417ms/epoch - 46ms/step\n",
      "Epoch 38/100\n",
      "\n",
      "Epoch 38: val_loss did not improve from 0.13183\n",
      "9/9 - 0s - loss: 0.0443 - categorical_accuracy: 0.9896 - val_loss: 0.1609 - val_categorical_accuracy: 0.9583 - 373ms/epoch - 41ms/step\n",
      "Epoch 39/100\n",
      "\n",
      "Epoch 39: val_loss did not improve from 0.13183\n",
      "9/9 - 0s - loss: 0.0542 - categorical_accuracy: 0.9896 - val_loss: 0.1701 - val_categorical_accuracy: 0.9583 - 351ms/epoch - 39ms/step\n",
      "Epoch 40/100\n",
      "\n",
      "Epoch 40: val_loss did not improve from 0.13183\n",
      "9/9 - 0s - loss: 0.0401 - categorical_accuracy: 0.9861 - val_loss: 0.1970 - val_categorical_accuracy: 0.9167 - 336ms/epoch - 37ms/step\n",
      "Epoch 41/100\n",
      "\n",
      "Epoch 41: val_loss improved from 0.13183 to 0.12161, saving model to Logs/run/model_GRU\\Epoch-41-Loss-0.12.h5\n",
      "9/9 - 0s - loss: 0.0403 - categorical_accuracy: 0.9826 - val_loss: 0.1216 - val_categorical_accuracy: 0.9722 - 322ms/epoch - 36ms/step\n",
      "Epoch 42/100\n",
      "\n",
      "Epoch 42: val_loss did not improve from 0.12161\n",
      "9/9 - 0s - loss: 0.0336 - categorical_accuracy: 0.9896 - val_loss: 0.3203 - val_categorical_accuracy: 0.9028 - 316ms/epoch - 35ms/step\n",
      "Epoch 43/100\n",
      "\n",
      "Epoch 43: val_loss improved from 0.12161 to 0.10359, saving model to Logs/run/model_GRU\\Epoch-43-Loss-0.10.h5\n",
      "9/9 - 0s - loss: 0.0437 - categorical_accuracy: 0.9896 - val_loss: 0.1036 - val_categorical_accuracy: 0.9722 - 326ms/epoch - 36ms/step\n",
      "Epoch 44/100\n",
      "\n",
      "Epoch 44: val_loss did not improve from 0.10359\n",
      "9/9 - 0s - loss: 0.0223 - categorical_accuracy: 0.9931 - val_loss: 0.2176 - val_categorical_accuracy: 0.9583 - 302ms/epoch - 34ms/step\n",
      "Epoch 45/100\n",
      "\n",
      "Epoch 45: val_loss did not improve from 0.10359\n",
      "9/9 - 0s - loss: 0.0344 - categorical_accuracy: 0.9861 - val_loss: 0.1232 - val_categorical_accuracy: 0.9583 - 325ms/epoch - 36ms/step\n",
      "Epoch 46/100\n",
      "\n",
      "Epoch 46: val_loss did not improve from 0.10359\n",
      "9/9 - 0s - loss: 0.0662 - categorical_accuracy: 0.9792 - val_loss: 0.3088 - val_categorical_accuracy: 0.9306 - 365ms/epoch - 41ms/step\n",
      "Epoch 47/100\n",
      "\n",
      "Epoch 47: val_loss did not improve from 0.10359\n",
      "9/9 - 0s - loss: 0.1531 - categorical_accuracy: 0.9549 - val_loss: 0.2855 - val_categorical_accuracy: 0.9167 - 319ms/epoch - 35ms/step\n",
      "Epoch 48/100\n",
      "\n",
      "Epoch 48: val_loss did not improve from 0.10359\n",
      "9/9 - 0s - loss: 0.1871 - categorical_accuracy: 0.9444 - val_loss: 0.2957 - val_categorical_accuracy: 0.9444 - 323ms/epoch - 36ms/step\n",
      "Epoch 49/100\n",
      "\n",
      "Epoch 49: val_loss did not improve from 0.10359\n",
      "9/9 - 0s - loss: 0.0495 - categorical_accuracy: 0.9826 - val_loss: 0.2058 - val_categorical_accuracy: 0.9583 - 318ms/epoch - 35ms/step\n",
      "Epoch 50/100\n",
      "\n",
      "Epoch 50: val_loss did not improve from 0.10359\n",
      "9/9 - 0s - loss: 0.0535 - categorical_accuracy: 0.9826 - val_loss: 0.1776 - val_categorical_accuracy: 0.9722 - 310ms/epoch - 34ms/step\n",
      "Epoch 51/100\n",
      "\n",
      "Epoch 51: val_loss did not improve from 0.10359\n",
      "9/9 - 0s - loss: 0.0262 - categorical_accuracy: 0.9931 - val_loss: 0.1808 - val_categorical_accuracy: 0.9583 - 307ms/epoch - 34ms/step\n",
      "Epoch 52/100\n",
      "\n",
      "Epoch 52: val_loss did not improve from 0.10359\n",
      "9/9 - 0s - loss: 0.0359 - categorical_accuracy: 0.9826 - val_loss: 0.1804 - val_categorical_accuracy: 0.9722 - 315ms/epoch - 35ms/step\n",
      "Epoch 53/100\n",
      "\n",
      "Epoch 53: val_loss did not improve from 0.10359\n",
      "9/9 - 0s - loss: 0.0176 - categorical_accuracy: 0.9931 - val_loss: 0.2050 - val_categorical_accuracy: 0.9583 - 333ms/epoch - 37ms/step\n",
      "Epoch 54/100\n",
      "\n",
      "Epoch 54: val_loss did not improve from 0.10359\n",
      "9/9 - 0s - loss: 0.0282 - categorical_accuracy: 0.9931 - val_loss: 0.1602 - val_categorical_accuracy: 0.9722 - 390ms/epoch - 43ms/step\n",
      "Epoch 55/100\n",
      "\n",
      "Epoch 55: val_loss did not improve from 0.10359\n",
      "9/9 - 0s - loss: 0.0277 - categorical_accuracy: 0.9965 - val_loss: 0.2378 - val_categorical_accuracy: 0.9583 - 398ms/epoch - 44ms/step\n",
      "Epoch 56/100\n",
      "\n",
      "Epoch 56: val_loss did not improve from 0.10359\n",
      "9/9 - 0s - loss: 0.0129 - categorical_accuracy: 0.9965 - val_loss: 0.1498 - val_categorical_accuracy: 0.9861 - 396ms/epoch - 44ms/step\n",
      "Epoch 57/100\n",
      "\n",
      "Epoch 57: val_loss did not improve from 0.10359\n",
      "9/9 - 0s - loss: 0.0083 - categorical_accuracy: 1.0000 - val_loss: 0.1645 - val_categorical_accuracy: 0.9583 - 404ms/epoch - 45ms/step\n",
      "Epoch 58/100\n",
      "\n",
      "Epoch 58: val_loss did not improve from 0.10359\n",
      "9/9 - 0s - loss: 0.0187 - categorical_accuracy: 0.9965 - val_loss: 0.1540 - val_categorical_accuracy: 0.9722 - 409ms/epoch - 45ms/step\n",
      "Epoch 59/100\n",
      "\n",
      "Epoch 59: val_loss did not improve from 0.10359\n",
      "9/9 - 0s - loss: 0.0159 - categorical_accuracy: 0.9931 - val_loss: 0.3013 - val_categorical_accuracy: 0.9306 - 419ms/epoch - 47ms/step\n",
      "Epoch 60/100\n",
      "\n",
      "Epoch 60: val_loss did not improve from 0.10359\n",
      "9/9 - 0s - loss: 0.0709 - categorical_accuracy: 0.9722 - val_loss: 0.5106 - val_categorical_accuracy: 0.8611 - 421ms/epoch - 47ms/step\n",
      "Epoch 61/100\n",
      "\n",
      "Epoch 61: val_loss did not improve from 0.10359\n",
      "9/9 - 0s - loss: 0.3748 - categorical_accuracy: 0.9097 - val_loss: 0.4702 - val_categorical_accuracy: 0.9028 - 419ms/epoch - 47ms/step\n",
      "Epoch 62/100\n",
      "\n",
      "Epoch 62: val_loss did not improve from 0.10359\n",
      "9/9 - 0s - loss: 0.2046 - categorical_accuracy: 0.9306 - val_loss: 0.2865 - val_categorical_accuracy: 0.9167 - 417ms/epoch - 46ms/step\n",
      "Epoch 63/100\n",
      "\n",
      "Epoch 63: val_loss did not improve from 0.10359\n",
      "9/9 - 0s - loss: 0.1476 - categorical_accuracy: 0.9410 - val_loss: 0.2314 - val_categorical_accuracy: 0.9583 - 410ms/epoch - 46ms/step\n",
      "Epoch 63: early stopping\n"
     ]
    }
   ],
   "source": [
    "#DO NOT RUN IF DONT WANT TO TRAIN\n",
    "# Reference: https://www.tensorflow.org/guide/keras/train_and_evaluate\n",
    "print(f\"Fit model on training data for {epochs} epochs\")\n",
    "history_GRU = modelGRU.fit(\n",
    "    X_train, y_train, \n",
    "    #batch_size=64,\n",
    "    epochs=epochs,\n",
    "    # We pass some validation data for monitoring validation loss and metrics at the end of each epoch\n",
    "    validation_data=(X_test, y_test),\n",
    "    verbose=2,\n",
    "    batch_size=32,\n",
    "    callbacks=[tb_callback, model_checkpoint_callback, early_stopping]\n",
    ")\n",
    "\n",
    "#https://stats.stackexchange.com/questions/153531/what-is-batch-size-in-neural-network\n"
   ]
  },
  {
   "cell_type": "markdown",
   "id": "f4ea955a",
   "metadata": {},
   "source": [
    "# 3. Plot Training Results"
   ]
  },
  {
   "cell_type": "code",
   "execution_count": 13,
   "id": "db9637d0",
   "metadata": {},
   "outputs": [
    {
     "data": {
      "text/html": [
       "<div>\n",
       "<style scoped>\n",
       "    .dataframe tbody tr th:only-of-type {\n",
       "        vertical-align: middle;\n",
       "    }\n",
       "\n",
       "    .dataframe tbody tr th {\n",
       "        vertical-align: top;\n",
       "    }\n",
       "\n",
       "    .dataframe thead th {\n",
       "        text-align: right;\n",
       "    }\n",
       "</style>\n",
       "<table border=\"1\" class=\"dataframe\">\n",
       "  <thead>\n",
       "    <tr style=\"text-align: right;\">\n",
       "      <th></th>\n",
       "      <th>loss</th>\n",
       "      <th>categorical_accuracy</th>\n",
       "      <th>val_loss</th>\n",
       "      <th>val_categorical_accuracy</th>\n",
       "    </tr>\n",
       "  </thead>\n",
       "  <tbody>\n",
       "    <tr>\n",
       "      <th>0</th>\n",
       "      <td>1.706073</td>\n",
       "      <td>0.298611</td>\n",
       "      <td>1.468225</td>\n",
       "      <td>0.513889</td>\n",
       "    </tr>\n",
       "    <tr>\n",
       "      <th>1</th>\n",
       "      <td>1.380199</td>\n",
       "      <td>0.440972</td>\n",
       "      <td>1.175222</td>\n",
       "      <td>0.430556</td>\n",
       "    </tr>\n",
       "    <tr>\n",
       "      <th>2</th>\n",
       "      <td>1.142000</td>\n",
       "      <td>0.510417</td>\n",
       "      <td>0.965114</td>\n",
       "      <td>0.541667</td>\n",
       "    </tr>\n",
       "    <tr>\n",
       "      <th>3</th>\n",
       "      <td>0.966224</td>\n",
       "      <td>0.565972</td>\n",
       "      <td>0.837614</td>\n",
       "      <td>0.666667</td>\n",
       "    </tr>\n",
       "    <tr>\n",
       "      <th>4</th>\n",
       "      <td>0.848684</td>\n",
       "      <td>0.628472</td>\n",
       "      <td>0.764740</td>\n",
       "      <td>0.736111</td>\n",
       "    </tr>\n",
       "    <tr>\n",
       "      <th>...</th>\n",
       "      <td>...</td>\n",
       "      <td>...</td>\n",
       "      <td>...</td>\n",
       "      <td>...</td>\n",
       "    </tr>\n",
       "    <tr>\n",
       "      <th>58</th>\n",
       "      <td>0.015894</td>\n",
       "      <td>0.993056</td>\n",
       "      <td>0.301346</td>\n",
       "      <td>0.930556</td>\n",
       "    </tr>\n",
       "    <tr>\n",
       "      <th>59</th>\n",
       "      <td>0.070905</td>\n",
       "      <td>0.972222</td>\n",
       "      <td>0.510622</td>\n",
       "      <td>0.861111</td>\n",
       "    </tr>\n",
       "    <tr>\n",
       "      <th>60</th>\n",
       "      <td>0.374757</td>\n",
       "      <td>0.909722</td>\n",
       "      <td>0.470187</td>\n",
       "      <td>0.902778</td>\n",
       "    </tr>\n",
       "    <tr>\n",
       "      <th>61</th>\n",
       "      <td>0.204636</td>\n",
       "      <td>0.930556</td>\n",
       "      <td>0.286475</td>\n",
       "      <td>0.916667</td>\n",
       "    </tr>\n",
       "    <tr>\n",
       "      <th>62</th>\n",
       "      <td>0.147613</td>\n",
       "      <td>0.940972</td>\n",
       "      <td>0.231441</td>\n",
       "      <td>0.958333</td>\n",
       "    </tr>\n",
       "  </tbody>\n",
       "</table>\n",
       "<p>63 rows × 4 columns</p>\n",
       "</div>"
      ],
      "text/plain": [
       "        loss  categorical_accuracy  val_loss  val_categorical_accuracy\n",
       "0   1.706073              0.298611  1.468225                  0.513889\n",
       "1   1.380199              0.440972  1.175222                  0.430556\n",
       "2   1.142000              0.510417  0.965114                  0.541667\n",
       "3   0.966224              0.565972  0.837614                  0.666667\n",
       "4   0.848684              0.628472  0.764740                  0.736111\n",
       "..       ...                   ...       ...                       ...\n",
       "58  0.015894              0.993056  0.301346                  0.930556\n",
       "59  0.070905              0.972222  0.510622                  0.861111\n",
       "60  0.374757              0.909722  0.470187                  0.902778\n",
       "61  0.204636              0.930556  0.286475                  0.916667\n",
       "62  0.147613              0.940972  0.231441                  0.958333\n",
       "\n",
       "[63 rows x 4 columns]"
      ]
     },
     "execution_count": 13,
     "metadata": {},
     "output_type": "execute_result"
    }
   ],
   "source": [
    "import pandas as pd\n",
    "# convert the history.history dict to a pandas DataFrame:     \n",
    "hist_df = pd.DataFrame(history_GRU.history) \n",
    "\n",
    "hist_df.to_csv(f'./Logs/{run}/history_GRU.csv',index = False)\n",
    "\n",
    "df_hist = pd.read_csv(f'./Logs/{run}/history_GRU.csv')\n",
    "hist_df"
   ]
  },
  {
   "cell_type": "code",
   "execution_count": 14,
   "id": "43c2741f",
   "metadata": {},
   "outputs": [
    {
     "name": "stdout",
     "output_type": "stream",
     "text": [
      "Index of Minimum Loss = 56\n",
      "Minimum Loss = 0.01\n"
     ]
    }
   ],
   "source": [
    "min_loss_epoch = hist_df[hist_df['loss']==min(hist_df['loss'])].index.values\n",
    "min_loss = min(hist_df['loss'])\n",
    "print('Index of Minimum Loss =',min_loss_epoch[0])\n",
    "print('Minimum Loss =',round(min_loss,2))"
   ]
  },
  {
   "cell_type": "code",
   "execution_count": 15,
   "id": "e724b703",
   "metadata": {},
   "outputs": [
    {
     "data": {
      "image/png": "[encoded data removed]",
      "text/plain": [
       "<Figure size 432x288 with 1 Axes>"
      ]
     },
     "metadata": {
      "needs_background": "light"
     },
     "output_type": "display_data"
    },
    {
     "data": {
      "image/png": "[encoded data removed]",
      "text/plain": [
       "<Figure size 432x288 with 1 Axes>"
      ]
     },
     "metadata": {
      "needs_background": "light"
     },
     "output_type": "display_data"
    }
   ],
   "source": [
    "# summarize history for accuracy\n",
    "plt.plot(history_GRU.history['categorical_accuracy'])\n",
    "plt.plot(history_GRU.history['val_categorical_accuracy'])\n",
    "plt.title('Model Training and Validation Categorical Accuracy GRU')\n",
    "plt.ylabel('categorical_accuracy')\n",
    "plt.xlabel('epoch')\n",
    "plt.legend(['train', 'validation'], loc='upper left')\n",
    "plt.savefig(f'{img_dir}/Model Training and Validation Categorical Accuracy GRU.jpg')\n",
    "plt.show()\n",
    "\n",
    "# summarize history for loss\n",
    "plt.plot(history_GRU.history['loss'])\n",
    "plt.plot(history_GRU.history['val_loss'])\n",
    "plt.title('Model Training and Validation Loss GRU')\n",
    "plt.ylabel('loss')\n",
    "plt.xlabel('epoch')\n",
    "plt.legend(['train', 'validation'], loc='upper left')\n",
    "plt.savefig(f'{img_dir}/Model Training and Validation Loss GRU.jpg')\n",
    "plt.show()"
   ]
  },
  {
   "cell_type": "markdown",
   "id": "0540877a",
   "metadata": {},
   "source": [
    "# 6. Load Best Model Weights/Checkpoint"
   ]
  },
  {
   "cell_type": "code",
   "execution_count": 17,
   "id": "80e578d0",
   "metadata": {},
   "outputs": [],
   "source": [
    "#PATH: \"C:\\Users\\yasmi\\Desktop\\data science\\Logs\\run_version2training\\model\\Epoch-72-Loss-0.15.h5\"\n",
    "\n",
    "modelGRU.load_weights(\"C:/Users/yasmi/Desktop/finalized ds project/Logs/run/model_GRU/Epoch-41-Loss-0.12.h5\")"
   ]
  },
  {
   "cell_type": "markdown",
   "id": "e6275ed2",
   "metadata": {},
   "source": [
    "# 7. Make Predictions on X_test"
   ]
  },
  {
   "cell_type": "code",
   "execution_count": 18,
   "id": "f590f0c0",
   "metadata": {},
   "outputs": [
    {
     "name": "stdout",
     "output_type": "stream",
     "text": [
      "3/3 [==============================] - 2s 13ms/step\n"
     ]
    },
    {
     "data": {
      "text/plain": [
       "3"
      ]
     },
     "execution_count": 18,
     "metadata": {},
     "output_type": "execute_result"
    }
   ],
   "source": [
    "res = modelGRU.predict(X_test)\n",
    "\n",
    "# Get y_predict and apply softmax function\n",
    "np.argmax(res[6])"
   ]
  },
  {
   "cell_type": "code",
   "execution_count": 19,
   "id": "4f596123",
   "metadata": {},
   "outputs": [
    {
     "data": {
      "text/plain": [
       "'welcome'"
      ]
     },
     "execution_count": 19,
     "metadata": {},
     "output_type": "execute_result"
    }
   ],
   "source": [
    "# Predicted Action\n",
    "actions[np.argmax(res[6])]"
   ]
  },
  {
   "cell_type": "code",
   "execution_count": 20,
   "id": "ba47e3c1",
   "metadata": {},
   "outputs": [
    {
     "data": {
      "text/plain": [
       "'welcome'"
      ]
     },
     "execution_count": 20,
     "metadata": {},
     "output_type": "execute_result"
    }
   ],
   "source": [
    "# Actual Action\n",
    "actions[np.argmax(y_test[6])]"
   ]
  },
  {
   "cell_type": "markdown",
   "id": "af712a97",
   "metadata": {},
   "source": [
    "# 8. Model Evaluation (Categorical Accuracy and Confusion Matrix)\n",
    "Running these cells converts the predicition from their one-hot encoded representation to a categorical label e.g. 0,1 or 2 as opposed to [1,0,0], [0,1,0] or [0,0,1]."
   ]
  },
  {
   "cell_type": "code",
   "execution_count": 21,
   "id": "0775c7da",
   "metadata": {},
   "outputs": [
    {
     "data": {
      "text/plain": [
       "(72, 30, 258)"
      ]
     },
     "execution_count": 21,
     "metadata": {},
     "output_type": "execute_result"
    }
   ],
   "source": [
    "X_test.shape"
   ]
  },
  {
   "cell_type": "code",
   "execution_count": 22,
   "id": "03bfd66f",
   "metadata": {},
   "outputs": [
    {
     "data": {
      "text/plain": [
       "['no', 'please', 'thanks', 'welcome', 'yes', 'noaction']"
      ]
     },
     "execution_count": 22,
     "metadata": {},
     "output_type": "execute_result"
    }
   ],
   "source": [
    "label_list = ['no', 'please', 'thanks', 'welcome', 'yes', 'noaction']\n",
    "label_list"
   ]
  },
  {
   "cell_type": "code",
   "execution_count": 23,
   "id": "99f99c5d",
   "metadata": {},
   "outputs": [
    {
     "data": {
      "text/plain": [
       "['no', 'please', 'thanks', 'welcome', 'yes', 'noaction']"
      ]
     },
     "execution_count": 23,
     "metadata": {},
     "output_type": "execute_result"
    }
   ],
   "source": [
    "label_list = list(label_map.keys())\n",
    "label_list"
   ]
  },
  {
   "cell_type": "code",
   "execution_count": 24,
   "id": "c73a1049",
   "metadata": {},
   "outputs": [],
   "source": [
    "from sklearn.metrics import multilabel_confusion_matrix, accuracy_score, plot_confusion_matrix\n",
    "from sklearn.metrics import confusion_matrix, ConfusionMatrixDisplay\n",
    "import seaborn as sns\n",
    "\n",
    "def generate_confusion_matrix_accuracy(X,y,types):\n",
    "    predictions = modelGRU.predict(X)\n",
    "    y_true = np.argmax(y, axis=1)\n",
    "    y_pred = np.argmax(predictions, axis=1)\n",
    "    cm = confusion_matrix(y_true, y_pred)\n",
    "\n",
    "    print(f'{types} Overall Multiclassification Accuracy Score across all classes:',round(accuracy_score(y_true, y_pred),2))\n",
    "\n",
    "    sns.heatmap(cm, xticklabels = label_list, yticklabels = label_list, annot = True, linewidths = 0.1, fmt='d',cmap='Blues') # cmap = 'YlGnBu')\n",
    "    plt.title(f\"{types} Confusion matrix\", fontsize = 15)\n",
    "    plt.ylabel('True label')\n",
    "    plt.xlabel('Predicted label')\n",
    "    plt.show()"
   ]
  },
  {
   "cell_type": "code",
   "execution_count": 25,
   "id": "94549164",
   "metadata": {},
   "outputs": [
    {
     "name": "stdout",
     "output_type": "stream",
     "text": [
      "9/9 [==============================] - 0s 16ms/step\n",
      "Train Overall Multiclassification Accuracy Score across all classes: 1.0\n"
     ]
    },
    {
     "data": {
      "image/png": "[encoded data removed]",
      "text/plain": [
       "<Figure size 432x288 with 2 Axes>"
      ]
     },
     "metadata": {
      "needs_background": "light"
     },
     "output_type": "display_data"
    }
   ],
   "source": [
    "generate_confusion_matrix_accuracy(X_train,y_train,'Train')"
   ]
  },
  {
   "cell_type": "code",
   "execution_count": 26,
   "id": "38bed208",
   "metadata": {},
   "outputs": [
    {
     "name": "stdout",
     "output_type": "stream",
     "text": [
      "3/3 [==============================] - 0s 13ms/step\n",
      "Test Overall Multiclassification Accuracy Score across all classes: 0.97\n"
     ]
    },
    {
     "data": {
      "image/png": "[encoded data removed]",
      "text/plain": [
       "<Figure size 432x288 with 2 Axes>"
      ]
     },
     "metadata": {
      "needs_background": "light"
     },
     "output_type": "display_data"
    }
   ],
   "source": [
    "generate_confusion_matrix_accuracy(X_test,y_test,'Test')"
   ]
  },
  {
   "cell_type": "code",
   "execution_count": 27,
   "id": "ba3d3432",
   "metadata": {},
   "outputs": [
    {
     "name": "stdout",
     "output_type": "stream",
     "text": [
      "3/3 [==============================] - 0s 15ms/step\n",
      "Precision:  [1.         0.92307692 1.         1.         0.92307692 1.        ]\n",
      "Recall:  [1.         1.         0.91666667 0.91666667 1.         1.        ]\n",
      "F1-Score:  [1.         0.96       0.95652174 0.95652174 0.96       1.        ]\n",
      "Accuracy:  0.9722222222222222\n"
     ]
    }
   ],
   "source": [
    "from sklearn.metrics import precision_recall_fscore_support, accuracy_score\n",
    "\n",
    "# predict on test data\n",
    "y_pred = modelGRU.predict(X_test)\n",
    "\n",
    "# convert predictions to binary labels\n",
    "y_pred = (y_pred > 0.5)\n",
    "\n",
    "# calculate precision, recall, f1-score, and accuracy\n",
    "precision, recall, f1_score, _ = precision_recall_fscore_support(y_test, y_pred)\n",
    "accuracy = accuracy_score(y_test, y_pred)\n",
    "\n",
    "print(\"Precision: \", precision)\n",
    "print(\"Recall: \", recall)\n",
    "print(\"F1-Score: \", f1_score)\n",
    "print(\"Accuracy: \", accuracy)"
   ]
  }
 ],
 "metadata": {
  "kernelspec": {
   "display_name": "Python 3 (ipykernel)",
   "language": "python",
   "name": "python3"
  },
  "language_info": {
   "codemirror_mode": {
    "name": "ipython",
    "version": 3
   },
   "file_extension": ".py",
   "mimetype": "text/x-python",
   "name": "python",
   "nbconvert_exporter": "python",
   "pygments_lexer": "ipython3",
   "version": "3.9.12"
  }
 },
 "nbformat": 4,
 "nbformat_minor": 5
}
